{
 "cells": [
  {
   "cell_type": "code",
   "execution_count": 1,
   "metadata": {
    "collapsed": true,
    "pycharm": {
     "name": "#%%\n"
    }
   },
   "outputs": [],
   "source": [
    "from pulp import *\n",
    "\n",
    "# defining a model for Pulp usage\n",
    "model = LpProblem(\"model\", sense=LpMaximize)"
   ]
  },
  {
   "cell_type": "code",
   "execution_count": 2,
   "outputs": [],
   "source": [
    "# define variables\n",
    "X1 = LpVariable('X1', lowBound=0, upBound=None, cat='Integer')\n",
    "X2 = LpVariable('X2', lowBound=0, upBound=None, cat='Integer')\n",
    "X3 = LpVariable('X3', lowBound=0, upBound=None, cat='Integer')"
   ],
   "metadata": {
    "collapsed": false,
    "pycharm": {
     "name": "#%%\n"
    }
   }
  },
  {
   "cell_type": "code",
   "execution_count": 3,
   "outputs": [
    {
     "data": {
      "text/plain": "1"
     },
     "execution_count": 3,
     "metadata": {},
     "output_type": "execute_result"
    }
   ],
   "source": [
    "# define objective function\n",
    "model += X1 * 33 + X2 * 40 + X3 * 34\n",
    "\n",
    "# define constraints\n",
    "model += X1 * 0.4 + X2 * 0.7 + X3 * 0.4 <= 40\n",
    "model += X1 * 0.2 + X2 * 0.5 + X3 * 0.6 <= 40\n",
    "model += X1 * 0.3 + X2 * 0.3 + X3 * 0.2 <= 40\n",
    "\n",
    "model.solve()"
   ],
   "metadata": {
    "collapsed": false,
    "pycharm": {
     "name": "#%%\n"
    }
   }
  },
  {
   "cell_type": "code",
   "execution_count": 5,
   "outputs": [
    {
     "name": "stdout",
     "output_type": "stream",
     "text": [
      "50\n",
      "0\n",
      "50\n"
     ]
    }
   ],
   "source": [
    "print(X1.varValue)\n",
    "print(X2.varValue)\n",
    "print(X3.varValue)"
   ],
   "metadata": {
    "collapsed": false,
    "pycharm": {
     "name": "#%%\n"
    }
   }
  }
 ],
 "metadata": {
  "kernelspec": {
   "display_name": "Python 3",
   "language": "python",
   "name": "python3"
  },
  "language_info": {
   "codemirror_mode": {
    "name": "ipython",
    "version": 2
   },
   "file_extension": ".py",
   "mimetype": "text/x-python",
   "name": "python",
   "nbconvert_exporter": "python",
   "pygments_lexer": "ipython2",
   "version": "2.7.6"
  }
 },
 "nbformat": 4,
 "nbformat_minor": 0
}