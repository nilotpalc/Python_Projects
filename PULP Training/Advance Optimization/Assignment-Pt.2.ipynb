{
 "cells": [
  {
   "cell_type": "code",
   "execution_count": 1,
   "metadata": {
    "collapsed": true,
    "pycharm": {
     "name": "#%%\n"
    }
   },
   "outputs": [],
   "source": [
    "import numpy as np\n",
    "import pandas as pd\n",
    "from pulp import *"
   ]
  },
  {
   "cell_type": "code",
   "execution_count": 2,
   "outputs": [],
   "source": [
    "demand = pd.read_excel(\"demand.xlsx\")\n",
    "demand.set_index(\"Shop\",inplace=True)\n",
    "\n",
    "inboundcost = pd.read_excel(\"plant+to+warehouse.xlsx\")\n",
    "inboundcost=inboundcost.rename(columns={\"Unnamed: 0\":\"Plant\"})\n",
    "inboundcost.set_index(\"Plant\",inplace=True)\n",
    "\n",
    "outboundcost = pd.read_excel(\"outbound_distance.xlsx\")\n",
    "outboundcost.set_index(\"warehouse\",inplace=True)\n",
    "\n",
    "prodtable = pd.read_excel(\"plant.xlsx\")\n",
    "prodtable.set_index(\"Unnamed: 0\",inplace=True)\n",
    "\n",
    "outboundhandling = pd.read_excel(\"wrehouse_costs.xlsx\")\n",
    "outboundhandling.set_index(\"warehouse\",inplace=True)"
   ],
   "metadata": {
    "collapsed": false,
    "pycharm": {
     "name": "#%%\n"
    }
   }
  },
  {
   "cell_type": "code",
   "execution_count": 3,
   "outputs": [],
   "source": [
    "# building variables for LP model\n",
    "plantusekey = prodtable.index.to_list()\n",
    "plantvar = LpVariable.dicts(\"plantusekey\",plantusekey,cat=\"Binary\")\n",
    "\n",
    "warehouseusekey = outboundhandling.index.to_list()\n",
    "warehousevar = LpVariable.dicts(\"warehousekey\",warehouseusekey,cat=\"Binary\")\n",
    "\n",
    "# list of shops\n",
    "shopkey = demand.index.to_list()\n",
    "# list of products\n",
    "prodkey = demand.columns.to_list()\n",
    "\n",
    "# list of plant-warehouses for inbound movement\n",
    "plant_wh_key = [(p,w,r) for p in plantusekey for w in warehouseusekey for r in prodkey]\n",
    "plant_wh_var = LpVariable.dicts(\"plant_wh\",plant_wh_key,lowBound=0,upBound=None,cat=\"Integer\")\n",
    "\n",
    "# list of wh-shops for outbound movement\n",
    "wh_shop_key = [(w,s,r) for w in warehouseusekey for s in shopkey for r in prodkey]\n",
    "wh_shop_var = LpVariable.dicts(\"wh_shop\",wh_shop_key,lowBound=0,upBound=None,cat=\"Integer\")\n"
   ],
   "metadata": {
    "collapsed": false,
    "pycharm": {
     "name": "#%%\n"
    }
   }
  },
  {
   "cell_type": "code",
   "execution_count": 4,
   "outputs": [],
   "source": [
    "# Objective function\n",
    "\n",
    "totinboundcost = lpSum(plant_wh_var[(p,w,r)]*inboundcost.loc[p,w] for p in plantusekey for w in warehouseusekey for r in prodkey)\n",
    "totoutboundcost = lpSum(wh_shop_var[(w,s,r)]*outboundcost.loc[w,s] for w in warehouseusekey for s in shopkey for r in prodkey)\n",
    "\n",
    "openplantcost = lpSum(plantvar[p]*prodtable.loc[p,\"Fixed Cost\"] for p in plantusekey)\n",
    "productioncost = lpSum(plant_wh_var[(p,w,r)]*prodtable.loc[p,r] for p in plantusekey for w in warehouseusekey for r in prodkey)\n",
    "\n",
    "opendccost = lpSum(warehousevar[w]*outboundhandling.loc[w,\"Fixed Cost\"] for w in warehouseusekey)\n",
    "warehousingcost = lpSum(wh_shop_var[(w,s,r)]*outboundhandling.loc[w,r] for w in warehouseusekey for s in shopkey for r in prodkey)"
   ],
   "metadata": {
    "collapsed": false,
    "pycharm": {
     "name": "#%%\n"
    }
   }
  },
  {
   "cell_type": "code",
   "execution_count": 5,
   "outputs": [],
   "source": [
    "model = LpProblem(\"model\",sense=LpMinimize)\n",
    "model += totinboundcost+totoutboundcost+openplantcost+productioncost+opendccost+warehousingcost"
   ],
   "metadata": {
    "collapsed": false,
    "pycharm": {
     "name": "#%%\n"
    }
   }
  },
  {
   "cell_type": "code",
   "execution_count": 6,
   "outputs": [],
   "source": [
    "# production plant constraints\n",
    "for p in plantusekey:\n",
    "    model += lpSum(plant_wh_var[(p,w,r)] for w in warehouseusekey for r in prodkey) <= prodtable.loc[p,\"Capacity\"]*plantvar[p]\n",
    "\n",
    "# warehousing constraints\n",
    "for w in warehouseusekey:\n",
    "    model += lpSum(wh_shop_var[(w,s,r)] for s in shopkey for r in prodkey) <= outboundhandling.loc[w,\"Capacity\"]*warehousevar[w]\n",
    "\n",
    "# demand constraints\n",
    "for s in shopkey:\n",
    "    for r in prodkey:\n",
    "        model += lpSum(wh_shop_var[(w,s,r)] for w in warehouseusekey) >= demand.loc[s,r]\n",
    "\n",
    "# flow constraints\n",
    "for w in warehouseusekey:\n",
    "    for r in prodkey:\n",
    "        model += lpSum(wh_shop_var[(w,s,r)] for s in shopkey) == lpSum(plant_wh_var[(p,w,r)] for p in plantusekey)"
   ],
   "metadata": {
    "collapsed": false,
    "pycharm": {
     "name": "#%%\n"
    }
   }
  },
  {
   "cell_type": "code",
   "execution_count": 7,
   "outputs": [
    {
     "data": {
      "text/plain": "1"
     },
     "execution_count": 7,
     "metadata": {},
     "output_type": "execute_result"
    }
   ],
   "source": [
    "model.solve()"
   ],
   "metadata": {
    "collapsed": false,
    "pycharm": {
     "name": "#%%\n"
    }
   }
  },
  {
   "cell_type": "code",
   "execution_count": 8,
   "outputs": [
    {
     "data": {
      "text/plain": "8813636.2"
     },
     "execution_count": 8,
     "metadata": {},
     "output_type": "execute_result"
    }
   ],
   "source": [
    "value(model.objective)"
   ],
   "metadata": {
    "collapsed": false,
    "pycharm": {
     "name": "#%%\n"
    }
   }
  },
  {
   "cell_type": "code",
   "execution_count": 9,
   "outputs": [
    {
     "name": "stdout",
     "output_type": "stream",
     "text": [
      "plant_wh_('Plant_1',_'warehouse_4',_'tables') = 844\n",
      "plant_wh_('Plant_1',_'warehouse_6',_'Chairs') = 1109\n",
      "plant_wh_('Plant_1',_'warehouse_6',_'tables') = 1877\n",
      "plant_wh_('Plant_3',_'warehouse_1',_'Curtains') = 800\n",
      "plant_wh_('Plant_3',_'warehouse_4',_'Beds') = 765\n",
      "plant_wh_('Plant_3',_'warehouse_4',_'Chairs') = 555\n",
      "plant_wh_('Plant_3',_'warehouse_4',_'Curtains') = 866\n",
      "plant_wh_('Plant_3',_'warehouse_6',_'Beds') = 921\n",
      "plant_wh_('Plant_3',_'warehouse_6',_'Curtains') = 1093\n",
      "plant_wh_('plant_2',_'warehouse_1',_'Beds') = 1149\n",
      "plant_wh_('plant_2',_'warehouse_1',_'Chairs') = 943\n",
      "plant_wh_('plant_2',_'warehouse_4',_'Chairs') = 190\n",
      "plantusekey_Plant_1 = 1\n",
      "plantusekey_Plant_3 = 1\n",
      "plantusekey_plant_2 = 1\n",
      "warehousekey_warehouse_1 = 1\n",
      "warehousekey_warehouse_4 = 1\n",
      "warehousekey_warehouse_6 = 1\n",
      "wh_shop_('warehouse_1',_'shop_10',_'Beds') = 155\n",
      "wh_shop_('warehouse_1',_'shop_10',_'Chairs') = 189\n",
      "wh_shop_('warehouse_1',_'shop_10',_'Curtains') = 223\n",
      "wh_shop_('warehouse_1',_'shop_11',_'Beds') = 150\n",
      "wh_shop_('warehouse_1',_'shop_11',_'Chairs') = 156\n",
      "wh_shop_('warehouse_1',_'shop_11',_'Curtains') = 162\n",
      "wh_shop_('warehouse_1',_'shop_12',_'Beds') = 145\n",
      "wh_shop_('warehouse_1',_'shop_12',_'Chairs') = 143\n",
      "wh_shop_('warehouse_1',_'shop_5',_'Beds') = 29\n",
      "wh_shop_('warehouse_1',_'shop_6',_'Beds') = 175\n",
      "wh_shop_('warehouse_1',_'shop_7',_'Beds') = 170\n",
      "wh_shop_('warehouse_1',_'shop_7',_'Chairs') = 180\n",
      "wh_shop_('warehouse_1',_'shop_7',_'Curtains') = 190\n",
      "wh_shop_('warehouse_1',_'shop_8',_'Beds') = 165\n",
      "wh_shop_('warehouse_1',_'shop_8',_'Chairs') = 145\n",
      "wh_shop_('warehouse_1',_'shop_8',_'Curtains') = 125\n",
      "wh_shop_('warehouse_1',_'shop_9',_'Beds') = 160\n",
      "wh_shop_('warehouse_1',_'shop_9',_'Chairs') = 130\n",
      "wh_shop_('warehouse_1',_'shop_9',_'Curtains') = 100\n",
      "wh_shop_('warehouse_4',_'shop_12',_'Curtains') = 141\n",
      "wh_shop_('warehouse_4',_'shop_12',_'tables') = 139\n",
      "wh_shop_('warehouse_4',_'shop_13',_'Beds') = 140\n",
      "wh_shop_('warehouse_4',_'shop_13',_'Chairs') = 120\n",
      "wh_shop_('warehouse_4',_'shop_13',_'Curtains') = 100\n",
      "wh_shop_('warehouse_4',_'shop_13',_'tables') = 80\n",
      "wh_shop_('warehouse_4',_'shop_14',_'Beds') = 135\n",
      "wh_shop_('warehouse_4',_'shop_14',_'Chairs') = 115\n",
      "wh_shop_('warehouse_4',_'shop_14',_'Curtains') = 95\n",
      "wh_shop_('warehouse_4',_'shop_14',_'tables') = 75\n",
      "wh_shop_('warehouse_4',_'shop_15',_'Beds') = 130\n",
      "wh_shop_('warehouse_4',_'shop_15',_'Chairs') = 100\n",
      "wh_shop_('warehouse_4',_'shop_15',_'Curtains') = 70\n",
      "wh_shop_('warehouse_4',_'shop_15',_'tables') = 40\n",
      "wh_shop_('warehouse_4',_'shop_16',_'Beds') = 125\n",
      "wh_shop_('warehouse_4',_'shop_16',_'Chairs') = 159\n",
      "wh_shop_('warehouse_4',_'shop_16',_'Curtains') = 193\n",
      "wh_shop_('warehouse_4',_'shop_16',_'tables') = 227\n",
      "wh_shop_('warehouse_4',_'shop_17',_'Beds') = 120\n",
      "wh_shop_('warehouse_4',_'shop_17',_'Chairs') = 126\n",
      "wh_shop_('warehouse_4',_'shop_17',_'Curtains') = 132\n",
      "wh_shop_('warehouse_4',_'shop_17',_'tables') = 138\n",
      "wh_shop_('warehouse_4',_'shop_18',_'Beds') = 115\n",
      "wh_shop_('warehouse_4',_'shop_18',_'Chairs') = 125\n",
      "wh_shop_('warehouse_4',_'shop_18',_'Curtains') = 135\n",
      "wh_shop_('warehouse_4',_'shop_18',_'tables') = 145\n",
      "wh_shop_('warehouse_6',_'shop_1',_'Beds') = 200\n",
      "wh_shop_('warehouse_6',_'shop_1',_'Chairs') = 195\n",
      "wh_shop_('warehouse_6',_'shop_1',_'Curtains') = 190\n",
      "wh_shop_('warehouse_6',_'shop_1',_'tables') = 185\n",
      "wh_shop_('warehouse_6',_'shop_10',_'tables') = 257\n",
      "wh_shop_('warehouse_6',_'shop_11',_'tables') = 168\n",
      "wh_shop_('warehouse_6',_'shop_2',_'Beds') = 195\n",
      "wh_shop_('warehouse_6',_'shop_2',_'Chairs') = 205\n",
      "wh_shop_('warehouse_6',_'shop_2',_'Curtains') = 215\n",
      "wh_shop_('warehouse_6',_'shop_2',_'tables') = 225\n",
      "wh_shop_('warehouse_6',_'shop_3',_'Beds') = 190\n",
      "wh_shop_('warehouse_6',_'shop_3',_'Chairs') = 170\n",
      "wh_shop_('warehouse_6',_'shop_3',_'Curtains') = 150\n",
      "wh_shop_('warehouse_6',_'shop_3',_'tables') = 130\n",
      "wh_shop_('warehouse_6',_'shop_4',_'Beds') = 185\n",
      "wh_shop_('warehouse_6',_'shop_4',_'Chairs') = 155\n",
      "wh_shop_('warehouse_6',_'shop_4',_'Curtains') = 125\n",
      "wh_shop_('warehouse_6',_'shop_4',_'tables') = 95\n",
      "wh_shop_('warehouse_6',_'shop_5',_'Beds') = 151\n",
      "wh_shop_('warehouse_6',_'shop_5',_'Chairs') = 214\n",
      "wh_shop_('warehouse_6',_'shop_5',_'Curtains') = 248\n",
      "wh_shop_('warehouse_6',_'shop_5',_'tables') = 282\n",
      "wh_shop_('warehouse_6',_'shop_6',_'Chairs') = 170\n",
      "wh_shop_('warehouse_6',_'shop_6',_'Curtains') = 165\n",
      "wh_shop_('warehouse_6',_'shop_6',_'tables') = 160\n",
      "wh_shop_('warehouse_6',_'shop_7',_'tables') = 200\n",
      "wh_shop_('warehouse_6',_'shop_8',_'tables') = 105\n",
      "wh_shop_('warehouse_6',_'shop_9',_'tables') = 70\n"
     ]
    }
   ],
   "source": [
    "soldict = {}\n",
    "for z in model.variables():\n",
    "    if z.varValue >0:\n",
    "        print (z.name, \"=\" ,z.varValue)\n",
    "    else:\n",
    "        continue"
   ],
   "metadata": {
    "collapsed": false,
    "pycharm": {
     "name": "#%%\n"
    }
   }
  },
  {
   "cell_type": "code",
   "execution_count": 10,
   "outputs": [],
   "source": [
    "soldict = {}\n",
    "for z in model.variables():\n",
    "    if z.varValue >0:\n",
    "        soldict[z.name] = z.varValue\n",
    "    else:\n",
    "        continue"
   ],
   "metadata": {
    "collapsed": false,
    "pycharm": {
     "name": "#%%\n"
    }
   }
  },
  {
   "cell_type": "code",
   "execution_count": 11,
   "outputs": [
    {
     "data": {
      "text/plain": "{\"plant_wh_('Plant_1',_'warehouse_4',_'tables')\": 844,\n \"plant_wh_('Plant_1',_'warehouse_6',_'Chairs')\": 1109,\n \"plant_wh_('Plant_1',_'warehouse_6',_'tables')\": 1877,\n \"plant_wh_('Plant_3',_'warehouse_1',_'Curtains')\": 800,\n \"plant_wh_('Plant_3',_'warehouse_4',_'Beds')\": 765,\n \"plant_wh_('Plant_3',_'warehouse_4',_'Chairs')\": 555,\n \"plant_wh_('Plant_3',_'warehouse_4',_'Curtains')\": 866,\n \"plant_wh_('Plant_3',_'warehouse_6',_'Beds')\": 921,\n \"plant_wh_('Plant_3',_'warehouse_6',_'Curtains')\": 1093,\n \"plant_wh_('plant_2',_'warehouse_1',_'Beds')\": 1149,\n \"plant_wh_('plant_2',_'warehouse_1',_'Chairs')\": 943,\n \"plant_wh_('plant_2',_'warehouse_4',_'Chairs')\": 190,\n 'plantusekey_Plant_1': 1,\n 'plantusekey_Plant_3': 1,\n 'plantusekey_plant_2': 1,\n 'warehousekey_warehouse_1': 1,\n 'warehousekey_warehouse_4': 1,\n 'warehousekey_warehouse_6': 1,\n \"wh_shop_('warehouse_1',_'shop_10',_'Beds')\": 155,\n \"wh_shop_('warehouse_1',_'shop_10',_'Chairs')\": 189,\n \"wh_shop_('warehouse_1',_'shop_10',_'Curtains')\": 223,\n \"wh_shop_('warehouse_1',_'shop_11',_'Beds')\": 150,\n \"wh_shop_('warehouse_1',_'shop_11',_'Chairs')\": 156,\n \"wh_shop_('warehouse_1',_'shop_11',_'Curtains')\": 162,\n \"wh_shop_('warehouse_1',_'shop_12',_'Beds')\": 145,\n \"wh_shop_('warehouse_1',_'shop_12',_'Chairs')\": 143,\n \"wh_shop_('warehouse_1',_'shop_5',_'Beds')\": 29,\n \"wh_shop_('warehouse_1',_'shop_6',_'Beds')\": 175,\n \"wh_shop_('warehouse_1',_'shop_7',_'Beds')\": 170,\n \"wh_shop_('warehouse_1',_'shop_7',_'Chairs')\": 180,\n \"wh_shop_('warehouse_1',_'shop_7',_'Curtains')\": 190,\n \"wh_shop_('warehouse_1',_'shop_8',_'Beds')\": 165,\n \"wh_shop_('warehouse_1',_'shop_8',_'Chairs')\": 145,\n \"wh_shop_('warehouse_1',_'shop_8',_'Curtains')\": 125,\n \"wh_shop_('warehouse_1',_'shop_9',_'Beds')\": 160,\n \"wh_shop_('warehouse_1',_'shop_9',_'Chairs')\": 130,\n \"wh_shop_('warehouse_1',_'shop_9',_'Curtains')\": 100,\n \"wh_shop_('warehouse_4',_'shop_12',_'Curtains')\": 141,\n \"wh_shop_('warehouse_4',_'shop_12',_'tables')\": 139,\n \"wh_shop_('warehouse_4',_'shop_13',_'Beds')\": 140,\n \"wh_shop_('warehouse_4',_'shop_13',_'Chairs')\": 120,\n \"wh_shop_('warehouse_4',_'shop_13',_'Curtains')\": 100,\n \"wh_shop_('warehouse_4',_'shop_13',_'tables')\": 80,\n \"wh_shop_('warehouse_4',_'shop_14',_'Beds')\": 135,\n \"wh_shop_('warehouse_4',_'shop_14',_'Chairs')\": 115,\n \"wh_shop_('warehouse_4',_'shop_14',_'Curtains')\": 95,\n \"wh_shop_('warehouse_4',_'shop_14',_'tables')\": 75,\n \"wh_shop_('warehouse_4',_'shop_15',_'Beds')\": 130,\n \"wh_shop_('warehouse_4',_'shop_15',_'Chairs')\": 100,\n \"wh_shop_('warehouse_4',_'shop_15',_'Curtains')\": 70,\n \"wh_shop_('warehouse_4',_'shop_15',_'tables')\": 40,\n \"wh_shop_('warehouse_4',_'shop_16',_'Beds')\": 125,\n \"wh_shop_('warehouse_4',_'shop_16',_'Chairs')\": 159,\n \"wh_shop_('warehouse_4',_'shop_16',_'Curtains')\": 193,\n \"wh_shop_('warehouse_4',_'shop_16',_'tables')\": 227,\n \"wh_shop_('warehouse_4',_'shop_17',_'Beds')\": 120,\n \"wh_shop_('warehouse_4',_'shop_17',_'Chairs')\": 126,\n \"wh_shop_('warehouse_4',_'shop_17',_'Curtains')\": 132,\n \"wh_shop_('warehouse_4',_'shop_17',_'tables')\": 138,\n \"wh_shop_('warehouse_4',_'shop_18',_'Beds')\": 115,\n \"wh_shop_('warehouse_4',_'shop_18',_'Chairs')\": 125,\n \"wh_shop_('warehouse_4',_'shop_18',_'Curtains')\": 135,\n \"wh_shop_('warehouse_4',_'shop_18',_'tables')\": 145,\n \"wh_shop_('warehouse_6',_'shop_1',_'Beds')\": 200,\n \"wh_shop_('warehouse_6',_'shop_1',_'Chairs')\": 195,\n \"wh_shop_('warehouse_6',_'shop_1',_'Curtains')\": 190,\n \"wh_shop_('warehouse_6',_'shop_1',_'tables')\": 185,\n \"wh_shop_('warehouse_6',_'shop_10',_'tables')\": 257,\n \"wh_shop_('warehouse_6',_'shop_11',_'tables')\": 168,\n \"wh_shop_('warehouse_6',_'shop_2',_'Beds')\": 195,\n \"wh_shop_('warehouse_6',_'shop_2',_'Chairs')\": 205,\n \"wh_shop_('warehouse_6',_'shop_2',_'Curtains')\": 215,\n \"wh_shop_('warehouse_6',_'shop_2',_'tables')\": 225,\n \"wh_shop_('warehouse_6',_'shop_3',_'Beds')\": 190,\n \"wh_shop_('warehouse_6',_'shop_3',_'Chairs')\": 170,\n \"wh_shop_('warehouse_6',_'shop_3',_'Curtains')\": 150,\n \"wh_shop_('warehouse_6',_'shop_3',_'tables')\": 130,\n \"wh_shop_('warehouse_6',_'shop_4',_'Beds')\": 185,\n \"wh_shop_('warehouse_6',_'shop_4',_'Chairs')\": 155,\n \"wh_shop_('warehouse_6',_'shop_4',_'Curtains')\": 125,\n \"wh_shop_('warehouse_6',_'shop_4',_'tables')\": 95,\n \"wh_shop_('warehouse_6',_'shop_5',_'Beds')\": 151,\n \"wh_shop_('warehouse_6',_'shop_5',_'Chairs')\": 214,\n \"wh_shop_('warehouse_6',_'shop_5',_'Curtains')\": 248,\n \"wh_shop_('warehouse_6',_'shop_5',_'tables')\": 282,\n \"wh_shop_('warehouse_6',_'shop_6',_'Chairs')\": 170,\n \"wh_shop_('warehouse_6',_'shop_6',_'Curtains')\": 165,\n \"wh_shop_('warehouse_6',_'shop_6',_'tables')\": 160,\n \"wh_shop_('warehouse_6',_'shop_7',_'tables')\": 200,\n \"wh_shop_('warehouse_6',_'shop_8',_'tables')\": 105,\n \"wh_shop_('warehouse_6',_'shop_9',_'tables')\": 70}"
     },
     "execution_count": 11,
     "metadata": {},
     "output_type": "execute_result"
    }
   ],
   "source": [
    "soldict"
   ],
   "metadata": {
    "collapsed": false,
    "pycharm": {
     "name": "#%%\n"
    }
   }
  },
  {
   "cell_type": "code",
   "execution_count": 12,
   "outputs": [
    {
     "data": {
      "text/plain": "                                      Variable Name  Variable Value\n0     plant_wh_('Plant_1',_'warehouse_4',_'tables')             844\n1     plant_wh_('Plant_1',_'warehouse_6',_'Chairs')            1109\n2     plant_wh_('Plant_1',_'warehouse_6',_'tables')            1877\n3   plant_wh_('Plant_3',_'warehouse_1',_'Curtains')             800\n4       plant_wh_('Plant_3',_'warehouse_4',_'Beds')             765\n..                                              ...             ...\n86    wh_shop_('warehouse_6',_'shop_6',_'Curtains')             165\n87      wh_shop_('warehouse_6',_'shop_6',_'tables')             160\n88      wh_shop_('warehouse_6',_'shop_7',_'tables')             200\n89      wh_shop_('warehouse_6',_'shop_8',_'tables')             105\n90      wh_shop_('warehouse_6',_'shop_9',_'tables')              70\n\n[91 rows x 2 columns]",
      "text/html": "<div>\n<style scoped>\n    .dataframe tbody tr th:only-of-type {\n        vertical-align: middle;\n    }\n\n    .dataframe tbody tr th {\n        vertical-align: top;\n    }\n\n    .dataframe thead th {\n        text-align: right;\n    }\n</style>\n<table border=\"1\" class=\"dataframe\">\n  <thead>\n    <tr style=\"text-align: right;\">\n      <th></th>\n      <th>Variable Name</th>\n      <th>Variable Value</th>\n    </tr>\n  </thead>\n  <tbody>\n    <tr>\n      <th>0</th>\n      <td>plant_wh_('Plant_1',_'warehouse_4',_'tables')</td>\n      <td>844</td>\n    </tr>\n    <tr>\n      <th>1</th>\n      <td>plant_wh_('Plant_1',_'warehouse_6',_'Chairs')</td>\n      <td>1109</td>\n    </tr>\n    <tr>\n      <th>2</th>\n      <td>plant_wh_('Plant_1',_'warehouse_6',_'tables')</td>\n      <td>1877</td>\n    </tr>\n    <tr>\n      <th>3</th>\n      <td>plant_wh_('Plant_3',_'warehouse_1',_'Curtains')</td>\n      <td>800</td>\n    </tr>\n    <tr>\n      <th>4</th>\n      <td>plant_wh_('Plant_3',_'warehouse_4',_'Beds')</td>\n      <td>765</td>\n    </tr>\n    <tr>\n      <th>...</th>\n      <td>...</td>\n      <td>...</td>\n    </tr>\n    <tr>\n      <th>86</th>\n      <td>wh_shop_('warehouse_6',_'shop_6',_'Curtains')</td>\n      <td>165</td>\n    </tr>\n    <tr>\n      <th>87</th>\n      <td>wh_shop_('warehouse_6',_'shop_6',_'tables')</td>\n      <td>160</td>\n    </tr>\n    <tr>\n      <th>88</th>\n      <td>wh_shop_('warehouse_6',_'shop_7',_'tables')</td>\n      <td>200</td>\n    </tr>\n    <tr>\n      <th>89</th>\n      <td>wh_shop_('warehouse_6',_'shop_8',_'tables')</td>\n      <td>105</td>\n    </tr>\n    <tr>\n      <th>90</th>\n      <td>wh_shop_('warehouse_6',_'shop_9',_'tables')</td>\n      <td>70</td>\n    </tr>\n  </tbody>\n</table>\n<p>91 rows × 2 columns</p>\n</div>"
     },
     "execution_count": 12,
     "metadata": {},
     "output_type": "execute_result"
    }
   ],
   "source": [
    "df = pd.DataFrame(list(soldict.items()),columns=['Variable Name','Variable Value'])\n",
    "df"
   ],
   "metadata": {
    "collapsed": false,
    "pycharm": {
     "name": "#%%\n"
    }
   }
  },
  {
   "cell_type": "code",
   "execution_count": 14,
   "outputs": [
    {
     "data": {
      "text/plain": "8718"
     },
     "execution_count": 14,
     "metadata": {},
     "output_type": "execute_result"
    }
   ],
   "source": [
    "dist_matrix = {(w,s):1 if outboundcost.loc[w,s] <=170 else 0 for w in warehouseusekey for s in shopkey}\n",
    "\n",
    "disttravel = lpSum(wh_shop_var[w,s,r].varValue*dist_matrix[(w,s)] for w in warehouseusekey for s in shopkey for r in prodkey)\n",
    "\n",
    "disttravel"
   ],
   "metadata": {
    "collapsed": false,
    "pycharm": {
     "name": "#%%\n"
    }
   }
  },
  {
   "cell_type": "code",
   "execution_count": 16,
   "outputs": [
    {
     "data": {
      "text/plain": "11112"
     },
     "execution_count": 16,
     "metadata": {},
     "output_type": "execute_result"
    }
   ],
   "source": [
    "totdemand = lpSum(demand.loc[s,r] for s in shopkey for r in prodkey)\n",
    "totdemand"
   ],
   "metadata": {
    "collapsed": false,
    "pycharm": {
     "name": "#%%\n"
    }
   }
  },
  {
   "cell_type": "code",
   "execution_count": 18,
   "outputs": [
    {
     "data": {
      "text/plain": "0.7845572354211663"
     },
     "execution_count": 18,
     "metadata": {},
     "output_type": "execute_result"
    }
   ],
   "source": [
    "servicelevel = disttravel/totdemand\n",
    "servicelevel"
   ],
   "metadata": {
    "collapsed": false,
    "pycharm": {
     "name": "#%%\n"
    }
   }
  }
 ],
 "metadata": {
  "kernelspec": {
   "display_name": "Python 3",
   "language": "python",
   "name": "python3"
  },
  "language_info": {
   "codemirror_mode": {
    "name": "ipython",
    "version": 2
   },
   "file_extension": ".py",
   "mimetype": "text/x-python",
   "name": "python",
   "nbconvert_exporter": "python",
   "pygments_lexer": "ipython2",
   "version": "2.7.6"
  }
 },
 "nbformat": 4,
 "nbformat_minor": 0
}