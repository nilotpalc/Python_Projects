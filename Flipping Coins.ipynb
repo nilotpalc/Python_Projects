{
 "cells": [
  {
   "cell_type": "code",
   "execution_count": 1,
   "metadata": {
    "collapsed": true
   },
   "outputs": [],
   "source": [
    "import numpy as np\n",
    "from numpy import random\n",
    "import pandas as pd"
   ]
  },
  {
   "cell_type": "code",
   "execution_count": 5,
   "outputs": [
    {
     "data": {
      "text/plain": "    Toss-1\n0        1\n1        2\n2        2\n3        1\n4        1\n..     ...\n95       2\n96       2\n97       2\n98       1\n99       1\n\n[100 rows x 1 columns]",
      "text/html": "<div>\n<style scoped>\n    .dataframe tbody tr th:only-of-type {\n        vertical-align: middle;\n    }\n\n    .dataframe tbody tr th {\n        vertical-align: top;\n    }\n\n    .dataframe thead th {\n        text-align: right;\n    }\n</style>\n<table border=\"1\" class=\"dataframe\">\n  <thead>\n    <tr style=\"text-align: right;\">\n      <th></th>\n      <th>Toss-1</th>\n    </tr>\n  </thead>\n  <tbody>\n    <tr>\n      <th>0</th>\n      <td>1</td>\n    </tr>\n    <tr>\n      <th>1</th>\n      <td>2</td>\n    </tr>\n    <tr>\n      <th>2</th>\n      <td>2</td>\n    </tr>\n    <tr>\n      <th>3</th>\n      <td>1</td>\n    </tr>\n    <tr>\n      <th>4</th>\n      <td>1</td>\n    </tr>\n    <tr>\n      <th>...</th>\n      <td>...</td>\n    </tr>\n    <tr>\n      <th>95</th>\n      <td>2</td>\n    </tr>\n    <tr>\n      <th>96</th>\n      <td>2</td>\n    </tr>\n    <tr>\n      <th>97</th>\n      <td>2</td>\n    </tr>\n    <tr>\n      <th>98</th>\n      <td>1</td>\n    </tr>\n    <tr>\n      <th>99</th>\n      <td>1</td>\n    </tr>\n  </tbody>\n</table>\n<p>100 rows × 1 columns</p>\n</div>"
     },
     "execution_count": 5,
     "metadata": {},
     "output_type": "execute_result"
    }
   ],
   "source": [
    "_a=100\n",
    "random.seed(222)\n",
    "zz = random.randint(1,3,_a)\n",
    "df = pd.DataFrame(zz,columns=[\"Toss-1\"])\n",
    "df"
   ],
   "metadata": {
    "collapsed": false
   }
  },
  {
   "cell_type": "code",
   "execution_count": 6,
   "outputs": [
    {
     "data": {
      "text/plain": "    Toss-2\n0        1\n1        2\n2        2\n3        1\n4        1\n..     ...\n95       2\n96       2\n97       2\n98       1\n99       1\n\n[100 rows x 1 columns]",
      "text/html": "<div>\n<style scoped>\n    .dataframe tbody tr th:only-of-type {\n        vertical-align: middle;\n    }\n\n    .dataframe tbody tr th {\n        vertical-align: top;\n    }\n\n    .dataframe thead th {\n        text-align: right;\n    }\n</style>\n<table border=\"1\" class=\"dataframe\">\n  <thead>\n    <tr style=\"text-align: right;\">\n      <th></th>\n      <th>Toss-2</th>\n    </tr>\n  </thead>\n  <tbody>\n    <tr>\n      <th>0</th>\n      <td>1</td>\n    </tr>\n    <tr>\n      <th>1</th>\n      <td>2</td>\n    </tr>\n    <tr>\n      <th>2</th>\n      <td>2</td>\n    </tr>\n    <tr>\n      <th>3</th>\n      <td>1</td>\n    </tr>\n    <tr>\n      <th>4</th>\n      <td>1</td>\n    </tr>\n    <tr>\n      <th>...</th>\n      <td>...</td>\n    </tr>\n    <tr>\n      <th>95</th>\n      <td>2</td>\n    </tr>\n    <tr>\n      <th>96</th>\n      <td>2</td>\n    </tr>\n    <tr>\n      <th>97</th>\n      <td>2</td>\n    </tr>\n    <tr>\n      <th>98</th>\n      <td>1</td>\n    </tr>\n    <tr>\n      <th>99</th>\n      <td>1</td>\n    </tr>\n  </tbody>\n</table>\n<p>100 rows × 1 columns</p>\n</div>"
     },
     "execution_count": 6,
     "metadata": {},
     "output_type": "execute_result"
    }
   ],
   "source": [
    "_a=100\n",
    "random.seed(222)\n",
    "yy = random.randint(1,3,_a)\n",
    "df1 = pd.DataFrame(yy,columns=[\"Toss-2\"])\n",
    "df1"
   ],
   "metadata": {
    "collapsed": false
   }
  },
  {
   "cell_type": "code",
   "execution_count": 7,
   "outputs": [
    {
     "data": {
      "text/plain": "    Toss-1  Toss-2\n0        1       1\n1        2       2\n2        2       2\n3        1       1\n4        1       1\n..     ...     ...\n95       2       2\n96       2       2\n97       2       2\n98       1       1\n99       1       1\n\n[100 rows x 2 columns]",
      "text/html": "<div>\n<style scoped>\n    .dataframe tbody tr th:only-of-type {\n        vertical-align: middle;\n    }\n\n    .dataframe tbody tr th {\n        vertical-align: top;\n    }\n\n    .dataframe thead th {\n        text-align: right;\n    }\n</style>\n<table border=\"1\" class=\"dataframe\">\n  <thead>\n    <tr style=\"text-align: right;\">\n      <th></th>\n      <th>Toss-1</th>\n      <th>Toss-2</th>\n    </tr>\n  </thead>\n  <tbody>\n    <tr>\n      <th>0</th>\n      <td>1</td>\n      <td>1</td>\n    </tr>\n    <tr>\n      <th>1</th>\n      <td>2</td>\n      <td>2</td>\n    </tr>\n    <tr>\n      <th>2</th>\n      <td>2</td>\n      <td>2</td>\n    </tr>\n    <tr>\n      <th>3</th>\n      <td>1</td>\n      <td>1</td>\n    </tr>\n    <tr>\n      <th>4</th>\n      <td>1</td>\n      <td>1</td>\n    </tr>\n    <tr>\n      <th>...</th>\n      <td>...</td>\n      <td>...</td>\n    </tr>\n    <tr>\n      <th>95</th>\n      <td>2</td>\n      <td>2</td>\n    </tr>\n    <tr>\n      <th>96</th>\n      <td>2</td>\n      <td>2</td>\n    </tr>\n    <tr>\n      <th>97</th>\n      <td>2</td>\n      <td>2</td>\n    </tr>\n    <tr>\n      <th>98</th>\n      <td>1</td>\n      <td>1</td>\n    </tr>\n    <tr>\n      <th>99</th>\n      <td>1</td>\n      <td>1</td>\n    </tr>\n  </tbody>\n</table>\n<p>100 rows × 2 columns</p>\n</div>"
     },
     "execution_count": 7,
     "metadata": {},
     "output_type": "execute_result"
    }
   ],
   "source": [
    "df_join = df.join(df1, how='inner')\n",
    "df_join"
   ],
   "metadata": {
    "collapsed": false
   }
  },
  {
   "cell_type": "code",
   "execution_count": 9,
   "outputs": [],
   "source": [
    "def tossht(x):\n",
    "    if x==1 :\n",
    "        aa = \"H\"\n",
    "    else:\n",
    "        aa = \"T\"\n",
    "    return aa"
   ],
   "metadata": {
    "collapsed": false
   }
  },
  {
   "cell_type": "code",
   "execution_count": 12,
   "outputs": [
    {
     "data": {
      "text/plain": "    Toss-1  Toss-2 Toss-1HT\n0        1       1        H\n1        2       2        T\n2        2       2        T\n3        1       1        H\n4        1       1        H\n..     ...     ...      ...\n95       2       2        T\n96       2       2        T\n97       2       2        T\n98       1       1        H\n99       1       1        H\n\n[100 rows x 3 columns]",
      "text/html": "<div>\n<style scoped>\n    .dataframe tbody tr th:only-of-type {\n        vertical-align: middle;\n    }\n\n    .dataframe tbody tr th {\n        vertical-align: top;\n    }\n\n    .dataframe thead th {\n        text-align: right;\n    }\n</style>\n<table border=\"1\" class=\"dataframe\">\n  <thead>\n    <tr style=\"text-align: right;\">\n      <th></th>\n      <th>Toss-1</th>\n      <th>Toss-2</th>\n      <th>Toss-1HT</th>\n    </tr>\n  </thead>\n  <tbody>\n    <tr>\n      <th>0</th>\n      <td>1</td>\n      <td>1</td>\n      <td>H</td>\n    </tr>\n    <tr>\n      <th>1</th>\n      <td>2</td>\n      <td>2</td>\n      <td>T</td>\n    </tr>\n    <tr>\n      <th>2</th>\n      <td>2</td>\n      <td>2</td>\n      <td>T</td>\n    </tr>\n    <tr>\n      <th>3</th>\n      <td>1</td>\n      <td>1</td>\n      <td>H</td>\n    </tr>\n    <tr>\n      <th>4</th>\n      <td>1</td>\n      <td>1</td>\n      <td>H</td>\n    </tr>\n    <tr>\n      <th>...</th>\n      <td>...</td>\n      <td>...</td>\n      <td>...</td>\n    </tr>\n    <tr>\n      <th>95</th>\n      <td>2</td>\n      <td>2</td>\n      <td>T</td>\n    </tr>\n    <tr>\n      <th>96</th>\n      <td>2</td>\n      <td>2</td>\n      <td>T</td>\n    </tr>\n    <tr>\n      <th>97</th>\n      <td>2</td>\n      <td>2</td>\n      <td>T</td>\n    </tr>\n    <tr>\n      <th>98</th>\n      <td>1</td>\n      <td>1</td>\n      <td>H</td>\n    </tr>\n    <tr>\n      <th>99</th>\n      <td>1</td>\n      <td>1</td>\n      <td>H</td>\n    </tr>\n  </tbody>\n</table>\n<p>100 rows × 3 columns</p>\n</div>"
     },
     "execution_count": 12,
     "metadata": {},
     "output_type": "execute_result"
    }
   ],
   "source": [
    "df_join['Toss-1HT'] = df_join['Toss-1'].apply(lambda x: tossht(x))\n",
    "df_join"
   ],
   "metadata": {
    "collapsed": false
   }
  },
  {
   "cell_type": "code",
   "execution_count": 13,
   "outputs": [
    {
     "data": {
      "text/plain": "    Toss-1  Toss-2 Toss-1HT Toss-2HT\n0        1       1        H        H\n1        2       2        T        T\n2        2       2        T        T\n3        1       1        H        H\n4        1       1        H        H\n..     ...     ...      ...      ...\n95       2       2        T        T\n96       2       2        T        T\n97       2       2        T        T\n98       1       1        H        H\n99       1       1        H        H\n\n[100 rows x 4 columns]",
      "text/html": "<div>\n<style scoped>\n    .dataframe tbody tr th:only-of-type {\n        vertical-align: middle;\n    }\n\n    .dataframe tbody tr th {\n        vertical-align: top;\n    }\n\n    .dataframe thead th {\n        text-align: right;\n    }\n</style>\n<table border=\"1\" class=\"dataframe\">\n  <thead>\n    <tr style=\"text-align: right;\">\n      <th></th>\n      <th>Toss-1</th>\n      <th>Toss-2</th>\n      <th>Toss-1HT</th>\n      <th>Toss-2HT</th>\n    </tr>\n  </thead>\n  <tbody>\n    <tr>\n      <th>0</th>\n      <td>1</td>\n      <td>1</td>\n      <td>H</td>\n      <td>H</td>\n    </tr>\n    <tr>\n      <th>1</th>\n      <td>2</td>\n      <td>2</td>\n      <td>T</td>\n      <td>T</td>\n    </tr>\n    <tr>\n      <th>2</th>\n      <td>2</td>\n      <td>2</td>\n      <td>T</td>\n      <td>T</td>\n    </tr>\n    <tr>\n      <th>3</th>\n      <td>1</td>\n      <td>1</td>\n      <td>H</td>\n      <td>H</td>\n    </tr>\n    <tr>\n      <th>4</th>\n      <td>1</td>\n      <td>1</td>\n      <td>H</td>\n      <td>H</td>\n    </tr>\n    <tr>\n      <th>...</th>\n      <td>...</td>\n      <td>...</td>\n      <td>...</td>\n      <td>...</td>\n    </tr>\n    <tr>\n      <th>95</th>\n      <td>2</td>\n      <td>2</td>\n      <td>T</td>\n      <td>T</td>\n    </tr>\n    <tr>\n      <th>96</th>\n      <td>2</td>\n      <td>2</td>\n      <td>T</td>\n      <td>T</td>\n    </tr>\n    <tr>\n      <th>97</th>\n      <td>2</td>\n      <td>2</td>\n      <td>T</td>\n      <td>T</td>\n    </tr>\n    <tr>\n      <th>98</th>\n      <td>1</td>\n      <td>1</td>\n      <td>H</td>\n      <td>H</td>\n    </tr>\n    <tr>\n      <th>99</th>\n      <td>1</td>\n      <td>1</td>\n      <td>H</td>\n      <td>H</td>\n    </tr>\n  </tbody>\n</table>\n<p>100 rows × 4 columns</p>\n</div>"
     },
     "execution_count": 13,
     "metadata": {},
     "output_type": "execute_result"
    }
   ],
   "source": [
    "df_join['Toss-2HT'] = df_join['Toss-2'].apply(lambda x: tossht(x))\n",
    "df_join"
   ],
   "metadata": {
    "collapsed": false
   }
  }
 ],
 "metadata": {
  "kernelspec": {
   "display_name": "Python 3",
   "language": "python",
   "name": "python3"
  },
  "language_info": {
   "codemirror_mode": {
    "name": "ipython",
    "version": 2
   },
   "file_extension": ".py",
   "mimetype": "text/x-python",
   "name": "python",
   "nbconvert_exporter": "python",
   "pygments_lexer": "ipython2",
   "version": "2.7.6"
  }
 },
 "nbformat": 4,
 "nbformat_minor": 0
}
