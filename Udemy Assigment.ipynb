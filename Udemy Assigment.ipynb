{
 "cells": [
  {
   "cell_type": "code",
   "execution_count": 8,
   "outputs": [],
   "source": [
    "import numpy as np\n",
    "import pandas as pd\n",
    "data_frame = pd.read_csv('cars.csv')"
   ],
   "metadata": {
    "collapsed": false,
    "pycharm": {
     "name": "#%%\n"
    }
   }
  },
  {
   "cell_type": "code",
   "execution_count": 9,
   "outputs": [
    {
     "data": {
      "text/plain": "                                name  sports_car    suv  wagon  minivan  \\\n0                 Chevrolet Aveo 4dr       False  False  False    False   \n1        Chevrolet Aveo LS 4dr hatch       False  False  False    False   \n2             Chevrolet Cavalier 2dr       False  False  False    False   \n3             Chevrolet Cavalier 4dr       False  False  False    False   \n4          Chevrolet Cavalier LS 2dr       False  False  False    False   \n..                               ...         ...    ...    ...      ...   \n423         Nissan Titan King Cab XE       False  False  False    False   \n424                      Subaru Baja       False  False  False    False   \n425                    Toyota Tacoma       False  False  False    False   \n426     Toyota Tundra Regular Cab V6       False  False  False    False   \n427  Toyota Tundra Access Cab V6 SR5       False  False  False    False   \n\n     pickup  all_wheel  rear_wheel  Price  Dealer_Cost  Engine_size  \\\n0     False      False       False  11690        10965          1.6   \n1     False      False       False  12585        11802          1.6   \n2     False      False       False  14610        13697          2.2   \n3     False      False       False  14810        13884          2.2   \n4     False      False       False  16385        15357          2.2   \n..      ...        ...         ...    ...          ...          ...   \n423    True       True       False  26650        24926          5.6   \n424    True       True       False  24520        22304          2.5   \n425    True      False        True  12800        11879          2.4   \n426    True      False        True  16495        14978          3.4   \n427    True       True       False  25935        23520          3.4   \n\n     cylenders  horsepower  city_miles_per_galloon  highway_miles_per_Gallon  \\\n0            4         103                    28.0                      34.0   \n1            4         103                    28.0                      34.0   \n2            4         140                    26.0                      37.0   \n3            4         140                    26.0                      37.0   \n4            4         140                    26.0                      37.0   \n..         ...         ...                     ...                       ...   \n423          8         305                    14.0                      18.0   \n424          4         165                    21.0                      28.0   \n425          4         142                    22.0                      27.0   \n426          6         190                    16.0                      20.0   \n427          6         190                    14.0                      17.0   \n\n     weight  base_wheeel  length  width  \n0    2370.0         98.0   167.0   66.0  \n1    2348.0         98.0   153.0   66.0  \n2    2617.0        104.0   183.0   69.0  \n3    2676.0        104.0   183.0   68.0  \n4    2617.0        104.0   183.0   69.0  \n..      ...          ...     ...    ...  \n423  5287.0        140.0     NaN    NaN  \n424  3485.0        104.0     NaN    NaN  \n425  2750.0        103.0     NaN    NaN  \n426  3925.0        128.0     NaN    NaN  \n427  4435.0        128.0     NaN    NaN  \n\n[428 rows x 19 columns]",
      "text/html": "<div>\n<style scoped>\n    .dataframe tbody tr th:only-of-type {\n        vertical-align: middle;\n    }\n\n    .dataframe tbody tr th {\n        vertical-align: top;\n    }\n\n    .dataframe thead th {\n        text-align: right;\n    }\n</style>\n<table border=\"1\" class=\"dataframe\">\n  <thead>\n    <tr style=\"text-align: right;\">\n      <th></th>\n      <th>name</th>\n      <th>sports_car</th>\n      <th>suv</th>\n      <th>wagon</th>\n      <th>minivan</th>\n      <th>pickup</th>\n      <th>all_wheel</th>\n      <th>rear_wheel</th>\n      <th>Price</th>\n      <th>Dealer_Cost</th>\n      <th>Engine_size</th>\n      <th>cylenders</th>\n      <th>horsepower</th>\n      <th>city_miles_per_galloon</th>\n      <th>highway_miles_per_Gallon</th>\n      <th>weight</th>\n      <th>base_wheeel</th>\n      <th>length</th>\n      <th>width</th>\n    </tr>\n  </thead>\n  <tbody>\n    <tr>\n      <th>0</th>\n      <td>Chevrolet Aveo 4dr</td>\n      <td>False</td>\n      <td>False</td>\n      <td>False</td>\n      <td>False</td>\n      <td>False</td>\n      <td>False</td>\n      <td>False</td>\n      <td>11690</td>\n      <td>10965</td>\n      <td>1.6</td>\n      <td>4</td>\n      <td>103</td>\n      <td>28.0</td>\n      <td>34.0</td>\n      <td>2370.0</td>\n      <td>98.0</td>\n      <td>167.0</td>\n      <td>66.0</td>\n    </tr>\n    <tr>\n      <th>1</th>\n      <td>Chevrolet Aveo LS 4dr hatch</td>\n      <td>False</td>\n      <td>False</td>\n      <td>False</td>\n      <td>False</td>\n      <td>False</td>\n      <td>False</td>\n      <td>False</td>\n      <td>12585</td>\n      <td>11802</td>\n      <td>1.6</td>\n      <td>4</td>\n      <td>103</td>\n      <td>28.0</td>\n      <td>34.0</td>\n      <td>2348.0</td>\n      <td>98.0</td>\n      <td>153.0</td>\n      <td>66.0</td>\n    </tr>\n    <tr>\n      <th>2</th>\n      <td>Chevrolet Cavalier 2dr</td>\n      <td>False</td>\n      <td>False</td>\n      <td>False</td>\n      <td>False</td>\n      <td>False</td>\n      <td>False</td>\n      <td>False</td>\n      <td>14610</td>\n      <td>13697</td>\n      <td>2.2</td>\n      <td>4</td>\n      <td>140</td>\n      <td>26.0</td>\n      <td>37.0</td>\n      <td>2617.0</td>\n      <td>104.0</td>\n      <td>183.0</td>\n      <td>69.0</td>\n    </tr>\n    <tr>\n      <th>3</th>\n      <td>Chevrolet Cavalier 4dr</td>\n      <td>False</td>\n      <td>False</td>\n      <td>False</td>\n      <td>False</td>\n      <td>False</td>\n      <td>False</td>\n      <td>False</td>\n      <td>14810</td>\n      <td>13884</td>\n      <td>2.2</td>\n      <td>4</td>\n      <td>140</td>\n      <td>26.0</td>\n      <td>37.0</td>\n      <td>2676.0</td>\n      <td>104.0</td>\n      <td>183.0</td>\n      <td>68.0</td>\n    </tr>\n    <tr>\n      <th>4</th>\n      <td>Chevrolet Cavalier LS 2dr</td>\n      <td>False</td>\n      <td>False</td>\n      <td>False</td>\n      <td>False</td>\n      <td>False</td>\n      <td>False</td>\n      <td>False</td>\n      <td>16385</td>\n      <td>15357</td>\n      <td>2.2</td>\n      <td>4</td>\n      <td>140</td>\n      <td>26.0</td>\n      <td>37.0</td>\n      <td>2617.0</td>\n      <td>104.0</td>\n      <td>183.0</td>\n      <td>69.0</td>\n    </tr>\n    <tr>\n      <th>...</th>\n      <td>...</td>\n      <td>...</td>\n      <td>...</td>\n      <td>...</td>\n      <td>...</td>\n      <td>...</td>\n      <td>...</td>\n      <td>...</td>\n      <td>...</td>\n      <td>...</td>\n      <td>...</td>\n      <td>...</td>\n      <td>...</td>\n      <td>...</td>\n      <td>...</td>\n      <td>...</td>\n      <td>...</td>\n      <td>...</td>\n      <td>...</td>\n    </tr>\n    <tr>\n      <th>423</th>\n      <td>Nissan Titan King Cab XE</td>\n      <td>False</td>\n      <td>False</td>\n      <td>False</td>\n      <td>False</td>\n      <td>True</td>\n      <td>True</td>\n      <td>False</td>\n      <td>26650</td>\n      <td>24926</td>\n      <td>5.6</td>\n      <td>8</td>\n      <td>305</td>\n      <td>14.0</td>\n      <td>18.0</td>\n      <td>5287.0</td>\n      <td>140.0</td>\n      <td>NaN</td>\n      <td>NaN</td>\n    </tr>\n    <tr>\n      <th>424</th>\n      <td>Subaru Baja</td>\n      <td>False</td>\n      <td>False</td>\n      <td>False</td>\n      <td>False</td>\n      <td>True</td>\n      <td>True</td>\n      <td>False</td>\n      <td>24520</td>\n      <td>22304</td>\n      <td>2.5</td>\n      <td>4</td>\n      <td>165</td>\n      <td>21.0</td>\n      <td>28.0</td>\n      <td>3485.0</td>\n      <td>104.0</td>\n      <td>NaN</td>\n      <td>NaN</td>\n    </tr>\n    <tr>\n      <th>425</th>\n      <td>Toyota Tacoma</td>\n      <td>False</td>\n      <td>False</td>\n      <td>False</td>\n      <td>False</td>\n      <td>True</td>\n      <td>False</td>\n      <td>True</td>\n      <td>12800</td>\n      <td>11879</td>\n      <td>2.4</td>\n      <td>4</td>\n      <td>142</td>\n      <td>22.0</td>\n      <td>27.0</td>\n      <td>2750.0</td>\n      <td>103.0</td>\n      <td>NaN</td>\n      <td>NaN</td>\n    </tr>\n    <tr>\n      <th>426</th>\n      <td>Toyota Tundra Regular Cab V6</td>\n      <td>False</td>\n      <td>False</td>\n      <td>False</td>\n      <td>False</td>\n      <td>True</td>\n      <td>False</td>\n      <td>True</td>\n      <td>16495</td>\n      <td>14978</td>\n      <td>3.4</td>\n      <td>6</td>\n      <td>190</td>\n      <td>16.0</td>\n      <td>20.0</td>\n      <td>3925.0</td>\n      <td>128.0</td>\n      <td>NaN</td>\n      <td>NaN</td>\n    </tr>\n    <tr>\n      <th>427</th>\n      <td>Toyota Tundra Access Cab V6 SR5</td>\n      <td>False</td>\n      <td>False</td>\n      <td>False</td>\n      <td>False</td>\n      <td>True</td>\n      <td>True</td>\n      <td>False</td>\n      <td>25935</td>\n      <td>23520</td>\n      <td>3.4</td>\n      <td>6</td>\n      <td>190</td>\n      <td>14.0</td>\n      <td>17.0</td>\n      <td>4435.0</td>\n      <td>128.0</td>\n      <td>NaN</td>\n      <td>NaN</td>\n    </tr>\n  </tbody>\n</table>\n<p>428 rows × 19 columns</p>\n</div>"
     },
     "execution_count": 9,
     "metadata": {},
     "output_type": "execute_result"
    }
   ],
   "source": [
    "data_frame"
   ],
   "metadata": {
    "collapsed": false,
    "pycharm": {
     "name": "#%%\n"
    }
   }
  },
  {
   "cell_type": "code",
   "execution_count": 10,
   "outputs": [
    {
     "data": {
      "text/plain": "(428, 19)"
     },
     "execution_count": 10,
     "metadata": {},
     "output_type": "execute_result"
    }
   ],
   "source": [
    "data_frame.shape"
   ],
   "metadata": {
    "collapsed": false,
    "pycharm": {
     "name": "#%%\n"
    }
   }
  },
  {
   "cell_type": "code",
   "execution_count": 11,
   "outputs": [
    {
     "data": {
      "text/plain": "array([ 4,  6,  3,  8,  5, 12, 10, -1], dtype=int64)"
     },
     "execution_count": 11,
     "metadata": {},
     "output_type": "execute_result"
    }
   ],
   "source": [
    "data_frame['cylenders'].unique()"
   ],
   "metadata": {
    "collapsed": false,
    "pycharm": {
     "name": "#%%\n"
    }
   }
  },
  {
   "cell_type": "code",
   "execution_count": 12,
   "outputs": [
    {
     "data": {
      "text/plain": "8"
     },
     "execution_count": 12,
     "metadata": {},
     "output_type": "execute_result"
    }
   ],
   "source": [
    "data_frame['cylenders'].nunique()"
   ],
   "metadata": {
    "collapsed": false,
    "pycharm": {
     "name": "#%%\n"
    }
   }
  },
  {
   "cell_type": "code",
   "execution_count": 13,
   "outputs": [
    {
     "data": {
      "text/plain": "                         name  sports_car    suv  wagon  minivan  pickup  \\\n271  Mazda RX-8 4dr automatic        True  False  False    False   False   \n272     Mazda RX-8 4dr manual        True  False  False    False   False   \n\n     all_wheel  rear_wheel  Price  Dealer_Cost  Engine_size  cylenders  \\\n271      False        True  25700        23794          1.3         -1   \n272      False        True  27200        25179          1.3         -1   \n\n     horsepower  city_miles_per_galloon  highway_miles_per_Gallon  weight  \\\n271         197                    18.0                      25.0  3053.0   \n272         238                    18.0                      24.0  3029.0   \n\n     base_wheeel  length  width  \n271        106.0   174.0    NaN  \n272        106.0   174.0    NaN  ",
      "text/html": "<div>\n<style scoped>\n    .dataframe tbody tr th:only-of-type {\n        vertical-align: middle;\n    }\n\n    .dataframe tbody tr th {\n        vertical-align: top;\n    }\n\n    .dataframe thead th {\n        text-align: right;\n    }\n</style>\n<table border=\"1\" class=\"dataframe\">\n  <thead>\n    <tr style=\"text-align: right;\">\n      <th></th>\n      <th>name</th>\n      <th>sports_car</th>\n      <th>suv</th>\n      <th>wagon</th>\n      <th>minivan</th>\n      <th>pickup</th>\n      <th>all_wheel</th>\n      <th>rear_wheel</th>\n      <th>Price</th>\n      <th>Dealer_Cost</th>\n      <th>Engine_size</th>\n      <th>cylenders</th>\n      <th>horsepower</th>\n      <th>city_miles_per_galloon</th>\n      <th>highway_miles_per_Gallon</th>\n      <th>weight</th>\n      <th>base_wheeel</th>\n      <th>length</th>\n      <th>width</th>\n    </tr>\n  </thead>\n  <tbody>\n    <tr>\n      <th>271</th>\n      <td>Mazda RX-8 4dr automatic</td>\n      <td>True</td>\n      <td>False</td>\n      <td>False</td>\n      <td>False</td>\n      <td>False</td>\n      <td>False</td>\n      <td>True</td>\n      <td>25700</td>\n      <td>23794</td>\n      <td>1.3</td>\n      <td>-1</td>\n      <td>197</td>\n      <td>18.0</td>\n      <td>25.0</td>\n      <td>3053.0</td>\n      <td>106.0</td>\n      <td>174.0</td>\n      <td>NaN</td>\n    </tr>\n    <tr>\n      <th>272</th>\n      <td>Mazda RX-8 4dr manual</td>\n      <td>True</td>\n      <td>False</td>\n      <td>False</td>\n      <td>False</td>\n      <td>False</td>\n      <td>False</td>\n      <td>True</td>\n      <td>27200</td>\n      <td>25179</td>\n      <td>1.3</td>\n      <td>-1</td>\n      <td>238</td>\n      <td>18.0</td>\n      <td>24.0</td>\n      <td>3029.0</td>\n      <td>106.0</td>\n      <td>174.0</td>\n      <td>NaN</td>\n    </tr>\n  </tbody>\n</table>\n</div>"
     },
     "execution_count": 13,
     "metadata": {},
     "output_type": "execute_result"
    }
   ],
   "source": [
    "data_frame[data_frame['cylenders']==-1]"
   ],
   "metadata": {
    "collapsed": false,
    "pycharm": {
     "name": "#%%\n"
    }
   }
  },
  {
   "cell_type": "code",
   "execution_count": 14,
   "outputs": [
    {
     "data": {
      "text/plain": "215.8855140186916"
     },
     "execution_count": 14,
     "metadata": {},
     "output_type": "execute_result"
    }
   ],
   "source": [
    "data_frame['horsepower'].mean()"
   ],
   "metadata": {
    "collapsed": false,
    "pycharm": {
     "name": "#%%\n"
    }
   }
  },
  {
   "cell_type": "code",
   "execution_count": 15,
   "outputs": [
    {
     "data": {
      "text/plain": "500"
     },
     "execution_count": 15,
     "metadata": {},
     "output_type": "execute_result"
    }
   ],
   "source": [
    "data_frame['horsepower'].max()"
   ],
   "metadata": {
    "collapsed": false,
    "pycharm": {
     "name": "#%%\n"
    }
   }
  },
  {
   "cell_type": "markdown",
   "source": [],
   "metadata": {
    "collapsed": false,
    "pycharm": {
     "name": "#%% md\n"
    }
   }
  },
  {
   "cell_type": "code",
   "execution_count": 18,
   "outputs": [
    {
     "data": {
      "text/plain": "                    name  sports_car    suv  wagon  minivan  pickup  \\\n287  Porsche 911 GT2 2dr        True  False  False    False   False   \n\n     all_wheel  rear_wheel   Price  Dealer_Cost  Engine_size  cylenders  \\\n287      False        True  192465       173560          3.6          6   \n\n     horsepower  city_miles_per_galloon  highway_miles_per_Gallon  weight  \\\n287         477                    17.0                      24.0  3131.0   \n\n     base_wheeel  length  width  \n287         93.0   175.0   72.0  ",
      "text/html": "<div>\n<style scoped>\n    .dataframe tbody tr th:only-of-type {\n        vertical-align: middle;\n    }\n\n    .dataframe tbody tr th {\n        vertical-align: top;\n    }\n\n    .dataframe thead th {\n        text-align: right;\n    }\n</style>\n<table border=\"1\" class=\"dataframe\">\n  <thead>\n    <tr style=\"text-align: right;\">\n      <th></th>\n      <th>name</th>\n      <th>sports_car</th>\n      <th>suv</th>\n      <th>wagon</th>\n      <th>minivan</th>\n      <th>pickup</th>\n      <th>all_wheel</th>\n      <th>rear_wheel</th>\n      <th>Price</th>\n      <th>Dealer_Cost</th>\n      <th>Engine_size</th>\n      <th>cylenders</th>\n      <th>horsepower</th>\n      <th>city_miles_per_galloon</th>\n      <th>highway_miles_per_Gallon</th>\n      <th>weight</th>\n      <th>base_wheeel</th>\n      <th>length</th>\n      <th>width</th>\n    </tr>\n  </thead>\n  <tbody>\n    <tr>\n      <th>287</th>\n      <td>Porsche 911 GT2 2dr</td>\n      <td>True</td>\n      <td>False</td>\n      <td>False</td>\n      <td>False</td>\n      <td>False</td>\n      <td>False</td>\n      <td>True</td>\n      <td>192465</td>\n      <td>173560</td>\n      <td>3.6</td>\n      <td>6</td>\n      <td>477</td>\n      <td>17.0</td>\n      <td>24.0</td>\n      <td>3131.0</td>\n      <td>93.0</td>\n      <td>175.0</td>\n      <td>72.0</td>\n    </tr>\n  </tbody>\n</table>\n</div>"
     },
     "execution_count": 18,
     "metadata": {},
     "output_type": "execute_result"
    }
   ],
   "source": [
    "data_frame[data_frame['Price']==data_frame['Price'].max()]"
   ],
   "metadata": {
    "collapsed": false,
    "pycharm": {
     "name": "#%%\n"
    }
   }
  },
  {
   "cell_type": "code",
   "execution_count": 19,
   "outputs": [],
   "source": [
    "data_frame = data_frame.rename(columns={'name':'car name'})"
   ],
   "metadata": {
    "collapsed": false,
    "pycharm": {
     "name": "#%%\n"
    }
   }
  },
  {
   "cell_type": "code",
   "execution_count": 20,
   "outputs": [
    {
     "data": {
      "text/plain": "                            car name  sports_car    suv  wagon  minivan  \\\n0                 Chevrolet Aveo 4dr       False  False  False    False   \n1        Chevrolet Aveo LS 4dr hatch       False  False  False    False   \n2             Chevrolet Cavalier 2dr       False  False  False    False   \n3             Chevrolet Cavalier 4dr       False  False  False    False   \n4          Chevrolet Cavalier LS 2dr       False  False  False    False   \n..                               ...         ...    ...    ...      ...   \n423         Nissan Titan King Cab XE       False  False  False    False   \n424                      Subaru Baja       False  False  False    False   \n425                    Toyota Tacoma       False  False  False    False   \n426     Toyota Tundra Regular Cab V6       False  False  False    False   \n427  Toyota Tundra Access Cab V6 SR5       False  False  False    False   \n\n     pickup  all_wheel  rear_wheel  Price  Dealer_Cost  Engine_size  \\\n0     False      False       False  11690        10965          1.6   \n1     False      False       False  12585        11802          1.6   \n2     False      False       False  14610        13697          2.2   \n3     False      False       False  14810        13884          2.2   \n4     False      False       False  16385        15357          2.2   \n..      ...        ...         ...    ...          ...          ...   \n423    True       True       False  26650        24926          5.6   \n424    True       True       False  24520        22304          2.5   \n425    True      False        True  12800        11879          2.4   \n426    True      False        True  16495        14978          3.4   \n427    True       True       False  25935        23520          3.4   \n\n     cylenders  horsepower  city_miles_per_galloon  highway_miles_per_Gallon  \\\n0            4         103                    28.0                      34.0   \n1            4         103                    28.0                      34.0   \n2            4         140                    26.0                      37.0   \n3            4         140                    26.0                      37.0   \n4            4         140                    26.0                      37.0   \n..         ...         ...                     ...                       ...   \n423          8         305                    14.0                      18.0   \n424          4         165                    21.0                      28.0   \n425          4         142                    22.0                      27.0   \n426          6         190                    16.0                      20.0   \n427          6         190                    14.0                      17.0   \n\n     weight  base_wheeel  length  width  \n0    2370.0         98.0   167.0   66.0  \n1    2348.0         98.0   153.0   66.0  \n2    2617.0        104.0   183.0   69.0  \n3    2676.0        104.0   183.0   68.0  \n4    2617.0        104.0   183.0   69.0  \n..      ...          ...     ...    ...  \n423  5287.0        140.0     NaN    NaN  \n424  3485.0        104.0     NaN    NaN  \n425  2750.0        103.0     NaN    NaN  \n426  3925.0        128.0     NaN    NaN  \n427  4435.0        128.0     NaN    NaN  \n\n[428 rows x 19 columns]",
      "text/html": "<div>\n<style scoped>\n    .dataframe tbody tr th:only-of-type {\n        vertical-align: middle;\n    }\n\n    .dataframe tbody tr th {\n        vertical-align: top;\n    }\n\n    .dataframe thead th {\n        text-align: right;\n    }\n</style>\n<table border=\"1\" class=\"dataframe\">\n  <thead>\n    <tr style=\"text-align: right;\">\n      <th></th>\n      <th>car name</th>\n      <th>sports_car</th>\n      <th>suv</th>\n      <th>wagon</th>\n      <th>minivan</th>\n      <th>pickup</th>\n      <th>all_wheel</th>\n      <th>rear_wheel</th>\n      <th>Price</th>\n      <th>Dealer_Cost</th>\n      <th>Engine_size</th>\n      <th>cylenders</th>\n      <th>horsepower</th>\n      <th>city_miles_per_galloon</th>\n      <th>highway_miles_per_Gallon</th>\n      <th>weight</th>\n      <th>base_wheeel</th>\n      <th>length</th>\n      <th>width</th>\n    </tr>\n  </thead>\n  <tbody>\n    <tr>\n      <th>0</th>\n      <td>Chevrolet Aveo 4dr</td>\n      <td>False</td>\n      <td>False</td>\n      <td>False</td>\n      <td>False</td>\n      <td>False</td>\n      <td>False</td>\n      <td>False</td>\n      <td>11690</td>\n      <td>10965</td>\n      <td>1.6</td>\n      <td>4</td>\n      <td>103</td>\n      <td>28.0</td>\n      <td>34.0</td>\n      <td>2370.0</td>\n      <td>98.0</td>\n      <td>167.0</td>\n      <td>66.0</td>\n    </tr>\n    <tr>\n      <th>1</th>\n      <td>Chevrolet Aveo LS 4dr hatch</td>\n      <td>False</td>\n      <td>False</td>\n      <td>False</td>\n      <td>False</td>\n      <td>False</td>\n      <td>False</td>\n      <td>False</td>\n      <td>12585</td>\n      <td>11802</td>\n      <td>1.6</td>\n      <td>4</td>\n      <td>103</td>\n      <td>28.0</td>\n      <td>34.0</td>\n      <td>2348.0</td>\n      <td>98.0</td>\n      <td>153.0</td>\n      <td>66.0</td>\n    </tr>\n    <tr>\n      <th>2</th>\n      <td>Chevrolet Cavalier 2dr</td>\n      <td>False</td>\n      <td>False</td>\n      <td>False</td>\n      <td>False</td>\n      <td>False</td>\n      <td>False</td>\n      <td>False</td>\n      <td>14610</td>\n      <td>13697</td>\n      <td>2.2</td>\n      <td>4</td>\n      <td>140</td>\n      <td>26.0</td>\n      <td>37.0</td>\n      <td>2617.0</td>\n      <td>104.0</td>\n      <td>183.0</td>\n      <td>69.0</td>\n    </tr>\n    <tr>\n      <th>3</th>\n      <td>Chevrolet Cavalier 4dr</td>\n      <td>False</td>\n      <td>False</td>\n      <td>False</td>\n      <td>False</td>\n      <td>False</td>\n      <td>False</td>\n      <td>False</td>\n      <td>14810</td>\n      <td>13884</td>\n      <td>2.2</td>\n      <td>4</td>\n      <td>140</td>\n      <td>26.0</td>\n      <td>37.0</td>\n      <td>2676.0</td>\n      <td>104.0</td>\n      <td>183.0</td>\n      <td>68.0</td>\n    </tr>\n    <tr>\n      <th>4</th>\n      <td>Chevrolet Cavalier LS 2dr</td>\n      <td>False</td>\n      <td>False</td>\n      <td>False</td>\n      <td>False</td>\n      <td>False</td>\n      <td>False</td>\n      <td>False</td>\n      <td>16385</td>\n      <td>15357</td>\n      <td>2.2</td>\n      <td>4</td>\n      <td>140</td>\n      <td>26.0</td>\n      <td>37.0</td>\n      <td>2617.0</td>\n      <td>104.0</td>\n      <td>183.0</td>\n      <td>69.0</td>\n    </tr>\n    <tr>\n      <th>...</th>\n      <td>...</td>\n      <td>...</td>\n      <td>...</td>\n      <td>...</td>\n      <td>...</td>\n      <td>...</td>\n      <td>...</td>\n      <td>...</td>\n      <td>...</td>\n      <td>...</td>\n      <td>...</td>\n      <td>...</td>\n      <td>...</td>\n      <td>...</td>\n      <td>...</td>\n      <td>...</td>\n      <td>...</td>\n      <td>...</td>\n      <td>...</td>\n    </tr>\n    <tr>\n      <th>423</th>\n      <td>Nissan Titan King Cab XE</td>\n      <td>False</td>\n      <td>False</td>\n      <td>False</td>\n      <td>False</td>\n      <td>True</td>\n      <td>True</td>\n      <td>False</td>\n      <td>26650</td>\n      <td>24926</td>\n      <td>5.6</td>\n      <td>8</td>\n      <td>305</td>\n      <td>14.0</td>\n      <td>18.0</td>\n      <td>5287.0</td>\n      <td>140.0</td>\n      <td>NaN</td>\n      <td>NaN</td>\n    </tr>\n    <tr>\n      <th>424</th>\n      <td>Subaru Baja</td>\n      <td>False</td>\n      <td>False</td>\n      <td>False</td>\n      <td>False</td>\n      <td>True</td>\n      <td>True</td>\n      <td>False</td>\n      <td>24520</td>\n      <td>22304</td>\n      <td>2.5</td>\n      <td>4</td>\n      <td>165</td>\n      <td>21.0</td>\n      <td>28.0</td>\n      <td>3485.0</td>\n      <td>104.0</td>\n      <td>NaN</td>\n      <td>NaN</td>\n    </tr>\n    <tr>\n      <th>425</th>\n      <td>Toyota Tacoma</td>\n      <td>False</td>\n      <td>False</td>\n      <td>False</td>\n      <td>False</td>\n      <td>True</td>\n      <td>False</td>\n      <td>True</td>\n      <td>12800</td>\n      <td>11879</td>\n      <td>2.4</td>\n      <td>4</td>\n      <td>142</td>\n      <td>22.0</td>\n      <td>27.0</td>\n      <td>2750.0</td>\n      <td>103.0</td>\n      <td>NaN</td>\n      <td>NaN</td>\n    </tr>\n    <tr>\n      <th>426</th>\n      <td>Toyota Tundra Regular Cab V6</td>\n      <td>False</td>\n      <td>False</td>\n      <td>False</td>\n      <td>False</td>\n      <td>True</td>\n      <td>False</td>\n      <td>True</td>\n      <td>16495</td>\n      <td>14978</td>\n      <td>3.4</td>\n      <td>6</td>\n      <td>190</td>\n      <td>16.0</td>\n      <td>20.0</td>\n      <td>3925.0</td>\n      <td>128.0</td>\n      <td>NaN</td>\n      <td>NaN</td>\n    </tr>\n    <tr>\n      <th>427</th>\n      <td>Toyota Tundra Access Cab V6 SR5</td>\n      <td>False</td>\n      <td>False</td>\n      <td>False</td>\n      <td>False</td>\n      <td>True</td>\n      <td>True</td>\n      <td>False</td>\n      <td>25935</td>\n      <td>23520</td>\n      <td>3.4</td>\n      <td>6</td>\n      <td>190</td>\n      <td>14.0</td>\n      <td>17.0</td>\n      <td>4435.0</td>\n      <td>128.0</td>\n      <td>NaN</td>\n      <td>NaN</td>\n    </tr>\n  </tbody>\n</table>\n<p>428 rows × 19 columns</p>\n</div>"
     },
     "execution_count": 20,
     "metadata": {},
     "output_type": "execute_result"
    }
   ],
   "source": [
    "data_frame"
   ],
   "metadata": {
    "collapsed": false,
    "pycharm": {
     "name": "#%%\n"
    }
   }
  },
  {
   "cell_type": "code",
   "execution_count": 21,
   "outputs": [],
   "source": [
    "new_df = data_frame.loc[:,['car name','Price']]"
   ],
   "metadata": {
    "collapsed": false,
    "pycharm": {
     "name": "#%%\n"
    }
   }
  },
  {
   "cell_type": "code",
   "execution_count": 22,
   "outputs": [
    {
     "data": {
      "text/plain": "                            car name  Price\n0                 Chevrolet Aveo 4dr  11690\n1        Chevrolet Aveo LS 4dr hatch  12585\n2             Chevrolet Cavalier 2dr  14610\n3             Chevrolet Cavalier 4dr  14810\n4          Chevrolet Cavalier LS 2dr  16385\n..                               ...    ...\n423         Nissan Titan King Cab XE  26650\n424                      Subaru Baja  24520\n425                    Toyota Tacoma  12800\n426     Toyota Tundra Regular Cab V6  16495\n427  Toyota Tundra Access Cab V6 SR5  25935\n\n[428 rows x 2 columns]",
      "text/html": "<div>\n<style scoped>\n    .dataframe tbody tr th:only-of-type {\n        vertical-align: middle;\n    }\n\n    .dataframe tbody tr th {\n        vertical-align: top;\n    }\n\n    .dataframe thead th {\n        text-align: right;\n    }\n</style>\n<table border=\"1\" class=\"dataframe\">\n  <thead>\n    <tr style=\"text-align: right;\">\n      <th></th>\n      <th>car name</th>\n      <th>Price</th>\n    </tr>\n  </thead>\n  <tbody>\n    <tr>\n      <th>0</th>\n      <td>Chevrolet Aveo 4dr</td>\n      <td>11690</td>\n    </tr>\n    <tr>\n      <th>1</th>\n      <td>Chevrolet Aveo LS 4dr hatch</td>\n      <td>12585</td>\n    </tr>\n    <tr>\n      <th>2</th>\n      <td>Chevrolet Cavalier 2dr</td>\n      <td>14610</td>\n    </tr>\n    <tr>\n      <th>3</th>\n      <td>Chevrolet Cavalier 4dr</td>\n      <td>14810</td>\n    </tr>\n    <tr>\n      <th>4</th>\n      <td>Chevrolet Cavalier LS 2dr</td>\n      <td>16385</td>\n    </tr>\n    <tr>\n      <th>...</th>\n      <td>...</td>\n      <td>...</td>\n    </tr>\n    <tr>\n      <th>423</th>\n      <td>Nissan Titan King Cab XE</td>\n      <td>26650</td>\n    </tr>\n    <tr>\n      <th>424</th>\n      <td>Subaru Baja</td>\n      <td>24520</td>\n    </tr>\n    <tr>\n      <th>425</th>\n      <td>Toyota Tacoma</td>\n      <td>12800</td>\n    </tr>\n    <tr>\n      <th>426</th>\n      <td>Toyota Tundra Regular Cab V6</td>\n      <td>16495</td>\n    </tr>\n    <tr>\n      <th>427</th>\n      <td>Toyota Tundra Access Cab V6 SR5</td>\n      <td>25935</td>\n    </tr>\n  </tbody>\n</table>\n<p>428 rows × 2 columns</p>\n</div>"
     },
     "execution_count": 22,
     "metadata": {},
     "output_type": "execute_result"
    }
   ],
   "source": [
    "new_df"
   ],
   "metadata": {
    "collapsed": false,
    "pycharm": {
     "name": "#%%\n"
    }
   }
  },
  {
   "cell_type": "code",
   "execution_count": 23,
   "outputs": [],
   "source": [
    "def pricingcategory(price):\n",
    "    if price <20000:\n",
    "        return 'Budget Car'\n",
    "    elif price <35000:\n",
    "        return 'Suitable Car'\n",
    "    else:\n",
    "        return 'Expensive Car'"
   ],
   "metadata": {
    "collapsed": false,
    "pycharm": {
     "name": "#%%\n"
    }
   }
  },
  {
   "cell_type": "code",
   "execution_count": 25,
   "outputs": [],
   "source": [
    "new_df['Category'] = new_df['Price'].map(pricingcategory)"
   ],
   "metadata": {
    "collapsed": false,
    "pycharm": {
     "name": "#%%\n"
    }
   }
  },
  {
   "cell_type": "code",
   "execution_count": 26,
   "outputs": [
    {
     "data": {
      "text/plain": "                            car name  Price      Category\n0                 Chevrolet Aveo 4dr  11690    Budget Car\n1        Chevrolet Aveo LS 4dr hatch  12585    Budget Car\n2             Chevrolet Cavalier 2dr  14610    Budget Car\n3             Chevrolet Cavalier 4dr  14810    Budget Car\n4          Chevrolet Cavalier LS 2dr  16385    Budget Car\n..                               ...    ...           ...\n423         Nissan Titan King Cab XE  26650  Suitable Car\n424                      Subaru Baja  24520  Suitable Car\n425                    Toyota Tacoma  12800    Budget Car\n426     Toyota Tundra Regular Cab V6  16495    Budget Car\n427  Toyota Tundra Access Cab V6 SR5  25935  Suitable Car\n\n[428 rows x 3 columns]",
      "text/html": "<div>\n<style scoped>\n    .dataframe tbody tr th:only-of-type {\n        vertical-align: middle;\n    }\n\n    .dataframe tbody tr th {\n        vertical-align: top;\n    }\n\n    .dataframe thead th {\n        text-align: right;\n    }\n</style>\n<table border=\"1\" class=\"dataframe\">\n  <thead>\n    <tr style=\"text-align: right;\">\n      <th></th>\n      <th>car name</th>\n      <th>Price</th>\n      <th>Category</th>\n    </tr>\n  </thead>\n  <tbody>\n    <tr>\n      <th>0</th>\n      <td>Chevrolet Aveo 4dr</td>\n      <td>11690</td>\n      <td>Budget Car</td>\n    </tr>\n    <tr>\n      <th>1</th>\n      <td>Chevrolet Aveo LS 4dr hatch</td>\n      <td>12585</td>\n      <td>Budget Car</td>\n    </tr>\n    <tr>\n      <th>2</th>\n      <td>Chevrolet Cavalier 2dr</td>\n      <td>14610</td>\n      <td>Budget Car</td>\n    </tr>\n    <tr>\n      <th>3</th>\n      <td>Chevrolet Cavalier 4dr</td>\n      <td>14810</td>\n      <td>Budget Car</td>\n    </tr>\n    <tr>\n      <th>4</th>\n      <td>Chevrolet Cavalier LS 2dr</td>\n      <td>16385</td>\n      <td>Budget Car</td>\n    </tr>\n    <tr>\n      <th>...</th>\n      <td>...</td>\n      <td>...</td>\n      <td>...</td>\n    </tr>\n    <tr>\n      <th>423</th>\n      <td>Nissan Titan King Cab XE</td>\n      <td>26650</td>\n      <td>Suitable Car</td>\n    </tr>\n    <tr>\n      <th>424</th>\n      <td>Subaru Baja</td>\n      <td>24520</td>\n      <td>Suitable Car</td>\n    </tr>\n    <tr>\n      <th>425</th>\n      <td>Toyota Tacoma</td>\n      <td>12800</td>\n      <td>Budget Car</td>\n    </tr>\n    <tr>\n      <th>426</th>\n      <td>Toyota Tundra Regular Cab V6</td>\n      <td>16495</td>\n      <td>Budget Car</td>\n    </tr>\n    <tr>\n      <th>427</th>\n      <td>Toyota Tundra Access Cab V6 SR5</td>\n      <td>25935</td>\n      <td>Suitable Car</td>\n    </tr>\n  </tbody>\n</table>\n<p>428 rows × 3 columns</p>\n</div>"
     },
     "execution_count": 26,
     "metadata": {},
     "output_type": "execute_result"
    }
   ],
   "source": [
    "new_df"
   ],
   "metadata": {
    "collapsed": false,
    "pycharm": {
     "name": "#%%\n"
    }
   }
  },
  {
   "cell_type": "code",
   "execution_count": 27,
   "outputs": [
    {
     "data": {
      "text/plain": "Suitable Car     193\nExpensive Car    137\nBudget Car        98\nName: Category, dtype: int64"
     },
     "execution_count": 27,
     "metadata": {},
     "output_type": "execute_result"
    }
   ],
   "source": [
    "new_df['Category'].value_counts()"
   ],
   "metadata": {
    "collapsed": false,
    "pycharm": {
     "name": "#%%\n"
    }
   }
  }
 ],
 "metadata": {
  "kernelspec": {
   "display_name": "Python 3",
   "language": "python",
   "name": "python3"
  },
  "language_info": {
   "codemirror_mode": {
    "name": "ipython",
    "version": 2
   },
   "file_extension": ".py",
   "mimetype": "text/x-python",
   "name": "python",
   "nbconvert_exporter": "python",
   "pygments_lexer": "ipython2",
   "version": "2.7.6"
  }
 },
 "nbformat": 4,
 "nbformat_minor": 0
}