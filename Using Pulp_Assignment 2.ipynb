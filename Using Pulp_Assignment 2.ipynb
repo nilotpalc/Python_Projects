{
 "cells": [
  {
   "cell_type": "code",
   "execution_count": 1,
   "outputs": [
    {
     "data": {
      "text/plain": "       period  demand  fixed cost  produuction Cost  storage cost  Capacity\n0    period 1     100        2000                40             1      5000\n1    period 2    4000        2000                50             1      6000\n2    period 3    2500        2000                80             1      4000\n3    period 4    4000        2000                60             1     12000\n4    period 5    6000        2000                50             1      4000\n5    period 6     100        2000                60             1      4000\n6    period 7     250        3000                20             1      8000\n7    period 8    5000        3000                40             1      4000\n8    period 9    6000        3000                90             1      4000\n9   period 10    4000        3000                30             1      7000\n10  period 11     900        3000                20             1      4000\n11  period 12    8000        3000               120             1      4000",
      "text/html": "<div>\n<style scoped>\n    .dataframe tbody tr th:only-of-type {\n        vertical-align: middle;\n    }\n\n    .dataframe tbody tr th {\n        vertical-align: top;\n    }\n\n    .dataframe thead th {\n        text-align: right;\n    }\n</style>\n<table border=\"1\" class=\"dataframe\">\n  <thead>\n    <tr style=\"text-align: right;\">\n      <th></th>\n      <th>period</th>\n      <th>demand</th>\n      <th>fixed cost</th>\n      <th>produuction Cost</th>\n      <th>storage cost</th>\n      <th>Capacity</th>\n    </tr>\n  </thead>\n  <tbody>\n    <tr>\n      <th>0</th>\n      <td>period 1</td>\n      <td>100</td>\n      <td>2000</td>\n      <td>40</td>\n      <td>1</td>\n      <td>5000</td>\n    </tr>\n    <tr>\n      <th>1</th>\n      <td>period 2</td>\n      <td>4000</td>\n      <td>2000</td>\n      <td>50</td>\n      <td>1</td>\n      <td>6000</td>\n    </tr>\n    <tr>\n      <th>2</th>\n      <td>period 3</td>\n      <td>2500</td>\n      <td>2000</td>\n      <td>80</td>\n      <td>1</td>\n      <td>4000</td>\n    </tr>\n    <tr>\n      <th>3</th>\n      <td>period 4</td>\n      <td>4000</td>\n      <td>2000</td>\n      <td>60</td>\n      <td>1</td>\n      <td>12000</td>\n    </tr>\n    <tr>\n      <th>4</th>\n      <td>period 5</td>\n      <td>6000</td>\n      <td>2000</td>\n      <td>50</td>\n      <td>1</td>\n      <td>4000</td>\n    </tr>\n    <tr>\n      <th>5</th>\n      <td>period 6</td>\n      <td>100</td>\n      <td>2000</td>\n      <td>60</td>\n      <td>1</td>\n      <td>4000</td>\n    </tr>\n    <tr>\n      <th>6</th>\n      <td>period 7</td>\n      <td>250</td>\n      <td>3000</td>\n      <td>20</td>\n      <td>1</td>\n      <td>8000</td>\n    </tr>\n    <tr>\n      <th>7</th>\n      <td>period 8</td>\n      <td>5000</td>\n      <td>3000</td>\n      <td>40</td>\n      <td>1</td>\n      <td>4000</td>\n    </tr>\n    <tr>\n      <th>8</th>\n      <td>period 9</td>\n      <td>6000</td>\n      <td>3000</td>\n      <td>90</td>\n      <td>1</td>\n      <td>4000</td>\n    </tr>\n    <tr>\n      <th>9</th>\n      <td>period 10</td>\n      <td>4000</td>\n      <td>3000</td>\n      <td>30</td>\n      <td>1</td>\n      <td>7000</td>\n    </tr>\n    <tr>\n      <th>10</th>\n      <td>period 11</td>\n      <td>900</td>\n      <td>3000</td>\n      <td>20</td>\n      <td>1</td>\n      <td>4000</td>\n    </tr>\n    <tr>\n      <th>11</th>\n      <td>period 12</td>\n      <td>8000</td>\n      <td>3000</td>\n      <td>120</td>\n      <td>1</td>\n      <td>4000</td>\n    </tr>\n  </tbody>\n</table>\n</div>"
     },
     "execution_count": 1,
     "metadata": {},
     "output_type": "execute_result"
    }
   ],
   "source": [
    "import pandas as pd\n",
    "\n",
    "dataset = pd.read_excel('Production_assignment_python.xlsx')\n",
    "dataset"
   ],
   "metadata": {
    "collapsed": false,
    "pycharm": {
     "name": "#%%\n"
    }
   }
  },
  {
   "cell_type": "code",
   "execution_count": 2,
   "outputs": [
    {
     "data": {
      "text/plain": "[1, 2, 3, 4, 5, 6, 7, 8, 9, 10, 11, 12]"
     },
     "execution_count": 2,
     "metadata": {},
     "output_type": "execute_result"
    }
   ],
   "source": [
    "# generating an index list for the dataframe\n",
    "indexlist = list(range(1,13))\n",
    "indexlist"
   ],
   "metadata": {
    "collapsed": false,
    "pycharm": {
     "name": "#%%\n"
    }
   }
  },
  {
   "cell_type": "code",
   "execution_count": 3,
   "outputs": [],
   "source": [
    "# adding the index list to the dataframe and set is as the index column\n",
    "dataset['IndexKey'] = indexlist\n",
    "dataset.set_index('IndexKey', inplace=True)"
   ],
   "metadata": {
    "collapsed": false,
    "pycharm": {
     "name": "#%%\n"
    }
   }
  },
  {
   "cell_type": "code",
   "execution_count": 4,
   "outputs": [],
   "source": [
    "from pulp import *\n",
    "\n",
    "# defining a model for Pulp usage\n",
    "model = LpProblem(\"model\", sense=LpMinimize)"
   ],
   "metadata": {
    "collapsed": false,
    "pycharm": {
     "name": "#%%\n"
    }
   }
  },
  {
   "cell_type": "code",
   "execution_count": 5,
   "outputs": [
    {
     "name": "stdout",
     "output_type": "stream",
     "text": [
      "[0, 1, 2, 3, 4, 5, 6, 7, 8, 9, 10, 11, 12]\n"
     ]
    }
   ],
   "source": [
    "# adding zero to indexlist for inventory variable mapping\n",
    "index_inventory = [0]+indexlist\n",
    "print(index_inventory)"
   ],
   "metadata": {
    "collapsed": false,
    "pycharm": {
     "name": "#%%\n"
    }
   }
  },
  {
   "cell_type": "code",
   "execution_count": 6,
   "outputs": [],
   "source": [
    "# define variables\n",
    "production = LpVariable.dicts('prod', indexlist, lowBound=0, upBound=None, cat='Integer')\n",
    "inventory = LpVariable.dicts('inventory', index_inventory, lowBound=0, upBound=None, cat=\"Integer\")\n",
    "binary = LpVariable.dicts('binary', indexlist, lowBound=0, upBound=None, cat='Binary')\n",
    "\n",
    "inventory[0] = 0"
   ],
   "metadata": {
    "collapsed": false,
    "pycharm": {
     "name": "#%%\n"
    }
   }
  },
  {
   "cell_type": "code",
   "execution_count": 7,
   "outputs": [],
   "source": [
    "# defining the objective function\n",
    "model += lpSum(\n",
    "    [production[i] * dataset.loc[i, 'produuction Cost'] + inventory[i] * dataset.loc[i, 'storage cost'] +\n",
    "     binary[i] * dataset.loc[i, 'fixed cost'] for i in indexlist])"
   ],
   "metadata": {
    "collapsed": false,
    "pycharm": {
     "name": "#%%\n"
    }
   }
  },
  {
   "cell_type": "code",
   "execution_count": 8,
   "outputs": [],
   "source": [
    "# defining the constraints\n",
    "for z in indexlist:\n",
    "    model += production[z] + inventory[z - 1] - inventory[z] >= dataset.loc[z, 'demand']\n",
    "    model += production[z] <= binary[z] * dataset.loc[z, 'Capacity']"
   ],
   "metadata": {
    "collapsed": false,
    "pycharm": {
     "name": "#%%\n"
    }
   }
  },
  {
   "cell_type": "code",
   "execution_count": 9,
   "outputs": [
    {
     "data": {
      "text/plain": "1"
     },
     "execution_count": 9,
     "metadata": {},
     "output_type": "execute_result"
    }
   ],
   "source": [
    "model.solve()"
   ],
   "metadata": {
    "collapsed": false,
    "pycharm": {
     "name": "#%%\n"
    }
   }
  },
  {
   "cell_type": "code",
   "execution_count": 10,
   "outputs": [
    {
     "name": "stdout",
     "output_type": "stream",
     "text": [
      "binary_1 1\n",
      "binary_10 1\n",
      "binary_11 1\n",
      "binary_12 0\n",
      "binary_2 1\n",
      "binary_3 0\n",
      "binary_4 1\n",
      "binary_5 1\n",
      "binary_6 1\n",
      "binary_7 1\n",
      "binary_8 1\n",
      "binary_9 0\n",
      "inventory_1 4900\n",
      "inventory_10 4900\n",
      "inventory_11 8000\n",
      "inventory_12 0\n",
      "inventory_2 6900\n",
      "inventory_3 4400\n",
      "inventory_4 2000\n",
      "inventory_5 0\n",
      "inventory_6 1150\n",
      "inventory_7 8900\n",
      "inventory_8 7900\n",
      "inventory_9 1900\n",
      "prod_1 5000\n",
      "prod_10 7000\n",
      "prod_11 4000\n",
      "prod_12 0\n",
      "prod_2 6000\n",
      "prod_3 0\n",
      "prod_4 1600\n",
      "prod_5 4000\n",
      "prod_6 1250\n",
      "prod_7 8000\n",
      "prod_8 4000\n",
      "prod_9 0\n"
     ]
    }
   ],
   "source": [
    "for vv in model.variables():\n",
    "    print(vv, vv.varValue)"
   ],
   "metadata": {
    "collapsed": false,
    "pycharm": {
     "name": "#%%\n"
    }
   }
  },
  {
   "cell_type": "code",
   "execution_count": 11,
   "outputs": [],
   "source": [
    "optimization_data = pd.DataFrame({'demand': dataset['demand'],\n",
    "    'production': [production[i].varValue for i in production],\n",
    "    'inventory': [inventory[i].varValue for i in indexlist],\n",
    "    'opening': [binary[i].varValue for i in binary]\n",
    "                                  })"
   ],
   "metadata": {
    "collapsed": false,
    "pycharm": {
     "name": "#%%\n"
    }
   }
  },
  {
   "cell_type": "code",
   "execution_count": 12,
   "outputs": [
    {
     "data": {
      "text/plain": "          demand  production  inventory  opening\nIndexKey                                        \n1            100        5000       4900        1\n2           4000        6000       6900        1\n3           2500           0       4400        0\n4           4000        1600       2000        1\n5           6000        4000          0        1\n6            100        1250       1150        1\n7            250        8000       8900        1\n8           5000        4000       7900        1\n9           6000           0       1900        0\n10          4000        7000       4900        1\n11           900        4000       8000        1\n12          8000           0          0        0",
      "text/html": "<div>\n<style scoped>\n    .dataframe tbody tr th:only-of-type {\n        vertical-align: middle;\n    }\n\n    .dataframe tbody tr th {\n        vertical-align: top;\n    }\n\n    .dataframe thead th {\n        text-align: right;\n    }\n</style>\n<table border=\"1\" class=\"dataframe\">\n  <thead>\n    <tr style=\"text-align: right;\">\n      <th></th>\n      <th>demand</th>\n      <th>production</th>\n      <th>inventory</th>\n      <th>opening</th>\n    </tr>\n    <tr>\n      <th>IndexKey</th>\n      <th></th>\n      <th></th>\n      <th></th>\n      <th></th>\n    </tr>\n  </thead>\n  <tbody>\n    <tr>\n      <th>1</th>\n      <td>100</td>\n      <td>5000</td>\n      <td>4900</td>\n      <td>1</td>\n    </tr>\n    <tr>\n      <th>2</th>\n      <td>4000</td>\n      <td>6000</td>\n      <td>6900</td>\n      <td>1</td>\n    </tr>\n    <tr>\n      <th>3</th>\n      <td>2500</td>\n      <td>0</td>\n      <td>4400</td>\n      <td>0</td>\n    </tr>\n    <tr>\n      <th>4</th>\n      <td>4000</td>\n      <td>1600</td>\n      <td>2000</td>\n      <td>1</td>\n    </tr>\n    <tr>\n      <th>5</th>\n      <td>6000</td>\n      <td>4000</td>\n      <td>0</td>\n      <td>1</td>\n    </tr>\n    <tr>\n      <th>6</th>\n      <td>100</td>\n      <td>1250</td>\n      <td>1150</td>\n      <td>1</td>\n    </tr>\n    <tr>\n      <th>7</th>\n      <td>250</td>\n      <td>8000</td>\n      <td>8900</td>\n      <td>1</td>\n    </tr>\n    <tr>\n      <th>8</th>\n      <td>5000</td>\n      <td>4000</td>\n      <td>7900</td>\n      <td>1</td>\n    </tr>\n    <tr>\n      <th>9</th>\n      <td>6000</td>\n      <td>0</td>\n      <td>1900</td>\n      <td>0</td>\n    </tr>\n    <tr>\n      <th>10</th>\n      <td>4000</td>\n      <td>7000</td>\n      <td>4900</td>\n      <td>1</td>\n    </tr>\n    <tr>\n      <th>11</th>\n      <td>900</td>\n      <td>4000</td>\n      <td>8000</td>\n      <td>1</td>\n    </tr>\n    <tr>\n      <th>12</th>\n      <td>8000</td>\n      <td>0</td>\n      <td>0</td>\n      <td>0</td>\n    </tr>\n  </tbody>\n</table>\n</div>"
     },
     "execution_count": 12,
     "metadata": {},
     "output_type": "execute_result"
    }
   ],
   "source": [
    "optimization_data"
   ],
   "metadata": {
    "collapsed": false,
    "pycharm": {
     "name": "#%%\n"
    }
   }
  }
 ],
 "metadata": {
  "kernelspec": {
   "display_name": "Python 3",
   "language": "python",
   "name": "python3"
  },
  "language_info": {
   "codemirror_mode": {
    "name": "ipython",
    "version": 2
   },
   "file_extension": ".py",
   "mimetype": "text/x-python",
   "name": "python",
   "nbconvert_exporter": "python",
   "pygments_lexer": "ipython2",
   "version": "2.7.6"
  }
 },
 "nbformat": 4,
 "nbformat_minor": 0
}