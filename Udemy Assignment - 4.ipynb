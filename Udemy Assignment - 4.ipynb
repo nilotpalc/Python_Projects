{
 "cells": [
  {
   "cell_type": "code",
   "execution_count": 61,
   "outputs": [],
   "source": [
    "import numpy as np\n",
    "import pandas as pd\n",
    "from pulp import *"
   ],
   "metadata": {
    "collapsed": false,
    "pycharm": {
     "name": "#%%\n"
    }
   }
  },
  {
   "cell_type": "code",
   "execution_count": 62,
   "outputs": [
    {
     "data": {
      "text/plain": "      plant 1  plant 2  plant 3\nDCS                            \nDC_1       22       71       79\nDC_2       64       27       26\nDC_3       72       36       56\nDC_4       50       75       56\nDC_5       32       33       21\nDC_6       63       34       65\nDC_7       37       52       46\nDC_8       33       80       42\nDC_9       80       54       76",
      "text/html": "<div>\n<style scoped>\n    .dataframe tbody tr th:only-of-type {\n        vertical-align: middle;\n    }\n\n    .dataframe tbody tr th {\n        vertical-align: top;\n    }\n\n    .dataframe thead th {\n        text-align: right;\n    }\n</style>\n<table border=\"1\" class=\"dataframe\">\n  <thead>\n    <tr style=\"text-align: right;\">\n      <th></th>\n      <th>plant 1</th>\n      <th>plant 2</th>\n      <th>plant 3</th>\n    </tr>\n    <tr>\n      <th>DCS</th>\n      <th></th>\n      <th></th>\n      <th></th>\n    </tr>\n  </thead>\n  <tbody>\n    <tr>\n      <th>DC_1</th>\n      <td>22</td>\n      <td>71</td>\n      <td>79</td>\n    </tr>\n    <tr>\n      <th>DC_2</th>\n      <td>64</td>\n      <td>27</td>\n      <td>26</td>\n    </tr>\n    <tr>\n      <th>DC_3</th>\n      <td>72</td>\n      <td>36</td>\n      <td>56</td>\n    </tr>\n    <tr>\n      <th>DC_4</th>\n      <td>50</td>\n      <td>75</td>\n      <td>56</td>\n    </tr>\n    <tr>\n      <th>DC_5</th>\n      <td>32</td>\n      <td>33</td>\n      <td>21</td>\n    </tr>\n    <tr>\n      <th>DC_6</th>\n      <td>63</td>\n      <td>34</td>\n      <td>65</td>\n    </tr>\n    <tr>\n      <th>DC_7</th>\n      <td>37</td>\n      <td>52</td>\n      <td>46</td>\n    </tr>\n    <tr>\n      <th>DC_8</th>\n      <td>33</td>\n      <td>80</td>\n      <td>42</td>\n    </tr>\n    <tr>\n      <th>DC_9</th>\n      <td>80</td>\n      <td>54</td>\n      <td>76</td>\n    </tr>\n  </tbody>\n</table>\n</div>"
     },
     "execution_count": 62,
     "metadata": {},
     "output_type": "execute_result"
    }
   ],
   "source": [
    "inbound = pd.read_excel(\"Advanced NW Modelling/inbound.xlsx\")\n",
    "inbound.set_index(\"DCS\", inplace=True)\n",
    "inbound"
   ],
   "metadata": {
    "collapsed": false,
    "pycharm": {
     "name": "#%%\n"
    }
   }
  },
  {
   "cell_type": "code",
   "execution_count": 63,
   "outputs": [
    {
     "data": {
      "text/plain": "      Shop 1  shop 2  Shop 3  Shop 4  Shop 5  Shop 6  Shop 7  Shop 8  Shop 9  \\\nDCS                                                                            \nDC_1      98      67     103     117      94     116      75     104     103   \nDC_2     109      85     114      50      64      53      46      62      50   \nDC_3      57     116      57     119      53      63     106      74      75   \nDC_4     113      57      92      80      56      77      55      80      92   \nDC_5      84      73      91      77      98      85      46      58     112   \nDC_6     101      69      85      92      43      96      64      73      55   \nDC_7     109     112      55      56      54      82      60      63     111   \nDC_8     118     116      56     117      55      54      71     108      93   \nDC_9      92     111      51      59      58     115      70      86     109   \n\n      Shop 10  Shop 11  Shop 12  \nDCS                              \nDC_1       71       71       41  \nDC_2       98       44       43  \nDC_3       62       43      118  \nDC_4       70       67       52  \nDC_5       67       89      102  \nDC_6      111       49       46  \nDC_7       48       75      112  \nDC_8       40      115       66  \nDC_9      116       70       68  ",
      "text/html": "<div>\n<style scoped>\n    .dataframe tbody tr th:only-of-type {\n        vertical-align: middle;\n    }\n\n    .dataframe tbody tr th {\n        vertical-align: top;\n    }\n\n    .dataframe thead th {\n        text-align: right;\n    }\n</style>\n<table border=\"1\" class=\"dataframe\">\n  <thead>\n    <tr style=\"text-align: right;\">\n      <th></th>\n      <th>Shop 1</th>\n      <th>shop 2</th>\n      <th>Shop 3</th>\n      <th>Shop 4</th>\n      <th>Shop 5</th>\n      <th>Shop 6</th>\n      <th>Shop 7</th>\n      <th>Shop 8</th>\n      <th>Shop 9</th>\n      <th>Shop 10</th>\n      <th>Shop 11</th>\n      <th>Shop 12</th>\n    </tr>\n    <tr>\n      <th>DCS</th>\n      <th></th>\n      <th></th>\n      <th></th>\n      <th></th>\n      <th></th>\n      <th></th>\n      <th></th>\n      <th></th>\n      <th></th>\n      <th></th>\n      <th></th>\n      <th></th>\n    </tr>\n  </thead>\n  <tbody>\n    <tr>\n      <th>DC_1</th>\n      <td>98</td>\n      <td>67</td>\n      <td>103</td>\n      <td>117</td>\n      <td>94</td>\n      <td>116</td>\n      <td>75</td>\n      <td>104</td>\n      <td>103</td>\n      <td>71</td>\n      <td>71</td>\n      <td>41</td>\n    </tr>\n    <tr>\n      <th>DC_2</th>\n      <td>109</td>\n      <td>85</td>\n      <td>114</td>\n      <td>50</td>\n      <td>64</td>\n      <td>53</td>\n      <td>46</td>\n      <td>62</td>\n      <td>50</td>\n      <td>98</td>\n      <td>44</td>\n      <td>43</td>\n    </tr>\n    <tr>\n      <th>DC_3</th>\n      <td>57</td>\n      <td>116</td>\n      <td>57</td>\n      <td>119</td>\n      <td>53</td>\n      <td>63</td>\n      <td>106</td>\n      <td>74</td>\n      <td>75</td>\n      <td>62</td>\n      <td>43</td>\n      <td>118</td>\n    </tr>\n    <tr>\n      <th>DC_4</th>\n      <td>113</td>\n      <td>57</td>\n      <td>92</td>\n      <td>80</td>\n      <td>56</td>\n      <td>77</td>\n      <td>55</td>\n      <td>80</td>\n      <td>92</td>\n      <td>70</td>\n      <td>67</td>\n      <td>52</td>\n    </tr>\n    <tr>\n      <th>DC_5</th>\n      <td>84</td>\n      <td>73</td>\n      <td>91</td>\n      <td>77</td>\n      <td>98</td>\n      <td>85</td>\n      <td>46</td>\n      <td>58</td>\n      <td>112</td>\n      <td>67</td>\n      <td>89</td>\n      <td>102</td>\n    </tr>\n    <tr>\n      <th>DC_6</th>\n      <td>101</td>\n      <td>69</td>\n      <td>85</td>\n      <td>92</td>\n      <td>43</td>\n      <td>96</td>\n      <td>64</td>\n      <td>73</td>\n      <td>55</td>\n      <td>111</td>\n      <td>49</td>\n      <td>46</td>\n    </tr>\n    <tr>\n      <th>DC_7</th>\n      <td>109</td>\n      <td>112</td>\n      <td>55</td>\n      <td>56</td>\n      <td>54</td>\n      <td>82</td>\n      <td>60</td>\n      <td>63</td>\n      <td>111</td>\n      <td>48</td>\n      <td>75</td>\n      <td>112</td>\n    </tr>\n    <tr>\n      <th>DC_8</th>\n      <td>118</td>\n      <td>116</td>\n      <td>56</td>\n      <td>117</td>\n      <td>55</td>\n      <td>54</td>\n      <td>71</td>\n      <td>108</td>\n      <td>93</td>\n      <td>40</td>\n      <td>115</td>\n      <td>66</td>\n    </tr>\n    <tr>\n      <th>DC_9</th>\n      <td>92</td>\n      <td>111</td>\n      <td>51</td>\n      <td>59</td>\n      <td>58</td>\n      <td>115</td>\n      <td>70</td>\n      <td>86</td>\n      <td>109</td>\n      <td>116</td>\n      <td>70</td>\n      <td>68</td>\n    </tr>\n  </tbody>\n</table>\n</div>"
     },
     "execution_count": 63,
     "metadata": {},
     "output_type": "execute_result"
    }
   ],
   "source": [
    "outbound = pd.read_excel(\"Advanced NW Modelling/outbound.xlsx\")\n",
    "outbound.set_index(\"DCS\", inplace=True)\n",
    "outbound"
   ],
   "metadata": {
    "collapsed": false,
    "pycharm": {
     "name": "#%%\n"
    }
   }
  },
  {
   "cell_type": "code",
   "execution_count": 64,
   "outputs": [
    {
     "data": {
      "text/plain": "         Demand\nshop           \nShop 1      881\nshop 2      806\nShop 3      704\nShop 4      767\nShop 5      575\nShop 6      741\nShop 7      593\nShop 8      708\nShop 9      800\nShop 10     683\nShop 11     623\nShop 12     648",
      "text/html": "<div>\n<style scoped>\n    .dataframe tbody tr th:only-of-type {\n        vertical-align: middle;\n    }\n\n    .dataframe tbody tr th {\n        vertical-align: top;\n    }\n\n    .dataframe thead th {\n        text-align: right;\n    }\n</style>\n<table border=\"1\" class=\"dataframe\">\n  <thead>\n    <tr style=\"text-align: right;\">\n      <th></th>\n      <th>Demand</th>\n    </tr>\n    <tr>\n      <th>shop</th>\n      <th></th>\n    </tr>\n  </thead>\n  <tbody>\n    <tr>\n      <th>Shop 1</th>\n      <td>881</td>\n    </tr>\n    <tr>\n      <th>shop 2</th>\n      <td>806</td>\n    </tr>\n    <tr>\n      <th>Shop 3</th>\n      <td>704</td>\n    </tr>\n    <tr>\n      <th>Shop 4</th>\n      <td>767</td>\n    </tr>\n    <tr>\n      <th>Shop 5</th>\n      <td>575</td>\n    </tr>\n    <tr>\n      <th>Shop 6</th>\n      <td>741</td>\n    </tr>\n    <tr>\n      <th>Shop 7</th>\n      <td>593</td>\n    </tr>\n    <tr>\n      <th>Shop 8</th>\n      <td>708</td>\n    </tr>\n    <tr>\n      <th>Shop 9</th>\n      <td>800</td>\n    </tr>\n    <tr>\n      <th>Shop 10</th>\n      <td>683</td>\n    </tr>\n    <tr>\n      <th>Shop 11</th>\n      <td>623</td>\n    </tr>\n    <tr>\n      <th>Shop 12</th>\n      <td>648</td>\n    </tr>\n  </tbody>\n</table>\n</div>"
     },
     "execution_count": 64,
     "metadata": {},
     "output_type": "execute_result"
    }
   ],
   "source": [
    "demand = pd.read_excel(\"Advanced NW Modelling/demand.xlsx\")\n",
    "demand.set_index(\"shop\", inplace=True)\n",
    "demand"
   ],
   "metadata": {
    "collapsed": false,
    "pycharm": {
     "name": "#%%\n"
    }
   }
  },
  {
   "cell_type": "code",
   "execution_count": 65,
   "outputs": [
    {
     "data": {
      "text/plain": "         Var  capacity  fixed cost\nplant                             \nplant 1   18      3000       40000\nplant 2   22      5000       60000\nplant 3   32      4000       50000",
      "text/html": "<div>\n<style scoped>\n    .dataframe tbody tr th:only-of-type {\n        vertical-align: middle;\n    }\n\n    .dataframe tbody tr th {\n        vertical-align: top;\n    }\n\n    .dataframe thead th {\n        text-align: right;\n    }\n</style>\n<table border=\"1\" class=\"dataframe\">\n  <thead>\n    <tr style=\"text-align: right;\">\n      <th></th>\n      <th>Var</th>\n      <th>capacity</th>\n      <th>fixed cost</th>\n    </tr>\n    <tr>\n      <th>plant</th>\n      <th></th>\n      <th></th>\n      <th></th>\n    </tr>\n  </thead>\n  <tbody>\n    <tr>\n      <th>plant 1</th>\n      <td>18</td>\n      <td>3000</td>\n      <td>40000</td>\n    </tr>\n    <tr>\n      <th>plant 2</th>\n      <td>22</td>\n      <td>5000</td>\n      <td>60000</td>\n    </tr>\n    <tr>\n      <th>plant 3</th>\n      <td>32</td>\n      <td>4000</td>\n      <td>50000</td>\n    </tr>\n  </tbody>\n</table>\n</div>"
     },
     "execution_count": 65,
     "metadata": {},
     "output_type": "execute_result"
    }
   ],
   "source": [
    "plant_costs = pd.read_excel(\"Advanced NW Modelling/plant+costs.xlsx\")\n",
    "plant_costs.set_index(\"plant\", inplace=True)\n",
    "plant_costs"
   ],
   "metadata": {
    "collapsed": false,
    "pycharm": {
     "name": "#%%\n"
    }
   }
  },
  {
   "cell_type": "code",
   "execution_count": 66,
   "outputs": [
    {
     "data": {
      "text/plain": "      Variable Cost  Fixed Cost  Capacity\nDCS                                      \nDC_1             12       20000     10000\nDC_2             15       22000     10000\nDC_3             18       40000     10000\nDC_4             45       50000     10000\nDC_5             23       60000     10000\nDC_6             44       12000     10000\nDC_7             32       18000     10000\nDC_8             12       70000     10000\nDC_9             23       65000     10000",
      "text/html": "<div>\n<style scoped>\n    .dataframe tbody tr th:only-of-type {\n        vertical-align: middle;\n    }\n\n    .dataframe tbody tr th {\n        vertical-align: top;\n    }\n\n    .dataframe thead th {\n        text-align: right;\n    }\n</style>\n<table border=\"1\" class=\"dataframe\">\n  <thead>\n    <tr style=\"text-align: right;\">\n      <th></th>\n      <th>Variable Cost</th>\n      <th>Fixed Cost</th>\n      <th>Capacity</th>\n    </tr>\n    <tr>\n      <th>DCS</th>\n      <th></th>\n      <th></th>\n      <th></th>\n    </tr>\n  </thead>\n  <tbody>\n    <tr>\n      <th>DC_1</th>\n      <td>12</td>\n      <td>20000</td>\n      <td>10000</td>\n    </tr>\n    <tr>\n      <th>DC_2</th>\n      <td>15</td>\n      <td>22000</td>\n      <td>10000</td>\n    </tr>\n    <tr>\n      <th>DC_3</th>\n      <td>18</td>\n      <td>40000</td>\n      <td>10000</td>\n    </tr>\n    <tr>\n      <th>DC_4</th>\n      <td>45</td>\n      <td>50000</td>\n      <td>10000</td>\n    </tr>\n    <tr>\n      <th>DC_5</th>\n      <td>23</td>\n      <td>60000</td>\n      <td>10000</td>\n    </tr>\n    <tr>\n      <th>DC_6</th>\n      <td>44</td>\n      <td>12000</td>\n      <td>10000</td>\n    </tr>\n    <tr>\n      <th>DC_7</th>\n      <td>32</td>\n      <td>18000</td>\n      <td>10000</td>\n    </tr>\n    <tr>\n      <th>DC_8</th>\n      <td>12</td>\n      <td>70000</td>\n      <td>10000</td>\n    </tr>\n    <tr>\n      <th>DC_9</th>\n      <td>23</td>\n      <td>65000</td>\n      <td>10000</td>\n    </tr>\n  </tbody>\n</table>\n</div>"
     },
     "execution_count": 66,
     "metadata": {},
     "output_type": "execute_result"
    }
   ],
   "source": [
    "dc_costs = pd.read_excel(\"Advanced NW Modelling/DC_costs.xlsx\")\n",
    "dc_costs.set_index(\"DCS\", inplace=True)\n",
    "dc_costs['Capacity'] = 10000\n",
    "dc_costs"
   ],
   "metadata": {
    "collapsed": false,
    "pycharm": {
     "name": "#%%\n"
    }
   }
  },
  {
   "cell_type": "code",
   "execution_count": 67,
   "outputs": [],
   "source": [
    "plantsvar = plant_costs.index.to_list()\n",
    "dcsvar = dc_costs.index.to_list()\n",
    "shopsvar = demand.index.to_list()"
   ],
   "metadata": {
    "collapsed": false,
    "pycharm": {
     "name": "#%%\n"
    }
   }
  },
  {
   "cell_type": "code",
   "execution_count": 68,
   "outputs": [],
   "source": [
    "# define dist matrix\n",
    "# using dictionary comprehension\n",
    "dist_matrix = {(w,s):1 if outbound.loc[w,s] <= 80 else 0 for w in dcsvar for s in shopsvar}"
   ],
   "metadata": {
    "collapsed": false,
    "pycharm": {
     "name": "#%%\n"
    }
   }
  },
  {
   "cell_type": "code",
   "execution_count": 69,
   "outputs": [],
   "source": [
    "# creating keys and variables\n",
    "inbound_keys = [(p, w) for w in dcsvar for p in plantsvar]\n",
    "outbound_keys = [(w, s) for w in dcsvar for s in shopsvar]"
   ],
   "metadata": {
    "collapsed": false,
    "pycharm": {
     "name": "#%%\n"
    }
   }
  },
  {
   "cell_type": "code",
   "execution_count": 70,
   "outputs": [],
   "source": [
    "inboundvar = LpVariable.dicts(\"inboundvar\",inbound_keys,lowBound=0,upBound=None,cat=\"Integer\")\n",
    "outboundvar = LpVariable.dicts(\"outboundvar\",outbound_keys,lowBound=0,upBound=None,cat=\"Integer\")\n",
    "open_dcvar = LpVariable.dicts(\"opendc\",dcsvar,cat=\"Binary\")\n",
    "open_plantvar = LpVariable.dicts(\"openplants\",plantsvar,cat=\"Binary\")"
   ],
   "metadata": {
    "collapsed": false,
    "pycharm": {
     "name": "#%%\n"
    }
   }
  },
  {
   "cell_type": "code",
   "execution_count": 71,
   "outputs": [],
   "source": [
    "# add cost calculations\n",
    "inboundcost = lpSum(inboundvar[(p,w)]*inbound.loc[w,p] for p in plantsvar for w in dcsvar)\n",
    "outboundcost = lpSum(outboundvar[(w,s)]*outbound.loc[w,s] for w in dcsvar for s in shopsvar)\n",
    "productioncost = lpSum(inboundvar[(p,w)]*plant_costs.loc[p,'Var'] for p in plantsvar for w in dcsvar)\n",
    "openplantcost = lpSum(open_plantvar[p]*plant_costs.loc[p,\"fixed cost\"] for p in plantsvar)\n",
    "operatedccost = lpSum(inboundvar[(p,w)]*dc_costs.loc[w,\"Variable Cost\"] for p in plantsvar for w in dcsvar)\n",
    "opendccost = lpSum(open_dcvar[w]*dc_costs.loc[w,\"Fixed Cost\"] for w in dcsvar)"
   ],
   "metadata": {
    "collapsed": false,
    "pycharm": {
     "name": "#%%\n"
    }
   }
  },
  {
   "cell_type": "code",
   "execution_count": 72,
   "outputs": [],
   "source": [
    "# define the model\n",
    "model = LpProblem(\"Extended\", LpMinimize)\n",
    "\n",
    "# objective function\n",
    "model += inboundcost+outboundcost+productioncost+openplantcost+operatedccost+opendccost"
   ],
   "metadata": {
    "collapsed": false,
    "pycharm": {
     "name": "#%%\n"
    }
   }
  },
  {
   "cell_type": "code",
   "execution_count": 73,
   "outputs": [],
   "source": [
    "# demand constraints\n",
    "for s in shopsvar:\n",
    "    model += lpSum(outboundvar[(w,s)] for w in dcsvar) >= demand.loc[s,\"Demand\"]\n",
    "\n",
    "# plant capacity constraints\n",
    "for p in plantsvar:\n",
    "    model += lpSum(inboundvar[(p,w)] for w in dcsvar) <= lpSum(plant_costs.loc[p,\"capacity\"]*open_plantvar[p])\n",
    "\n",
    "# plant capacity constraints\n",
    "for w in dcsvar:\n",
    "    model += lpSum(inboundvar[(p,w)] for p in plantsvar) <= lpSum(dc_costs.loc[w,\"Capacity\"]*open_dcvar[w])\n",
    "\n",
    "# flow constraints\n",
    "for w in dcsvar:\n",
    "    model += lpSum(inboundvar[(p,w)] for p in plantsvar) == lpSum(outboundvar[(w,s)] for s in shopsvar)\n",
    "\n",
    "# open nos constraints\n",
    "model += lpSum(open_dcvar[w] for w in dcsvar) >= 1\n",
    "model += lpSum(open_dcvar[w] for w in dcsvar) <= 9\n",
    "model += lpSum(open_plantvar[p] for p in plantsvar) >= 1\n",
    "model += lpSum(open_plantvar[p] for p in plantsvar) <= 3\n",
    "\n",
    "# service level constraints\n",
    "model += lpSum(dist_matrix[(w,s)]*outboundvar[(w,s)] for w in dcsvar for s in shopsvar) / demand['Demand'].sum() >= 0.95"
   ],
   "metadata": {
    "collapsed": false,
    "pycharm": {
     "name": "#%%\n"
    }
   }
  },
  {
   "cell_type": "code",
   "execution_count": 74,
   "outputs": [
    {
     "data": {
      "text/plain": "1"
     },
     "execution_count": 74,
     "metadata": {},
     "output_type": "execute_result"
    }
   ],
   "source": [
    "# solving the model\n",
    "model.solve()"
   ],
   "metadata": {
    "collapsed": false,
    "pycharm": {
     "name": "#%%\n"
    }
   }
  },
  {
   "cell_type": "code",
   "execution_count": 75,
   "outputs": [
    {
     "data": {
      "text/plain": "1256177"
     },
     "execution_count": 75,
     "metadata": {},
     "output_type": "execute_result"
    }
   ],
   "source": [
    "value(model.objective)"
   ],
   "metadata": {
    "collapsed": false,
    "pycharm": {
     "name": "#%%\n"
    }
   }
  },
  {
   "cell_type": "code",
   "execution_count": 76,
   "outputs": [
    {
     "name": "stdout",
     "output_type": "stream",
     "text": [
      "inboundvar_('plant_1',_'DC_1') = 2137\n",
      "inboundvar_('plant_1',_'DC_2') = 0\n",
      "inboundvar_('plant_1',_'DC_3') = 0\n",
      "inboundvar_('plant_1',_'DC_4') = 0\n",
      "inboundvar_('plant_1',_'DC_5') = 0\n",
      "inboundvar_('plant_1',_'DC_6') = 0\n",
      "inboundvar_('plant_1',_'DC_7') = 0\n",
      "inboundvar_('plant_1',_'DC_8') = 0\n",
      "inboundvar_('plant_1',_'DC_9') = 0\n",
      "inboundvar_('plant_2',_'DC_1') = 0\n",
      "inboundvar_('plant_2',_'DC_2') = 3415\n",
      "inboundvar_('plant_2',_'DC_3') = 1585\n",
      "inboundvar_('plant_2',_'DC_4') = 0\n",
      "inboundvar_('plant_2',_'DC_5') = 0\n",
      "inboundvar_('plant_2',_'DC_6') = 0\n",
      "inboundvar_('plant_2',_'DC_7') = 0\n",
      "inboundvar_('plant_2',_'DC_8') = 0\n",
      "inboundvar_('plant_2',_'DC_9') = 0\n",
      "inboundvar_('plant_3',_'DC_1') = 0\n",
      "inboundvar_('plant_3',_'DC_2') = 1392\n",
      "inboundvar_('plant_3',_'DC_3') = 0\n",
      "inboundvar_('plant_3',_'DC_4') = 0\n",
      "inboundvar_('plant_3',_'DC_5') = 0\n",
      "inboundvar_('plant_3',_'DC_6') = 0\n",
      "inboundvar_('plant_3',_'DC_7') = 0\n",
      "inboundvar_('plant_3',_'DC_8') = 0\n",
      "inboundvar_('plant_3',_'DC_9') = 0\n",
      "opendc_DC_1 = 1\n",
      "opendc_DC_2 = 1\n",
      "opendc_DC_3 = 1\n",
      "opendc_DC_4 = 0\n",
      "opendc_DC_5 = 0\n",
      "opendc_DC_6 = 0\n",
      "opendc_DC_7 = 0\n",
      "opendc_DC_8 = 0\n",
      "opendc_DC_9 = 0\n",
      "openplants_plant_1 = 1\n",
      "openplants_plant_2 = 1\n",
      "openplants_plant_3 = 1\n",
      "outboundvar_('DC_1',_'Shop_1') = 0\n",
      "outboundvar_('DC_1',_'Shop_10') = 683\n",
      "outboundvar_('DC_1',_'Shop_11') = 0\n",
      "outboundvar_('DC_1',_'Shop_12') = 648\n",
      "outboundvar_('DC_1',_'Shop_3') = 0\n",
      "outboundvar_('DC_1',_'Shop_4') = 0\n",
      "outboundvar_('DC_1',_'Shop_5') = 0\n",
      "outboundvar_('DC_1',_'Shop_6') = 0\n",
      "outboundvar_('DC_1',_'Shop_7') = 0\n",
      "outboundvar_('DC_1',_'Shop_8') = 0\n",
      "outboundvar_('DC_1',_'Shop_9') = 0\n",
      "outboundvar_('DC_1',_'shop_2') = 806\n",
      "outboundvar_('DC_2',_'Shop_1') = 0\n",
      "outboundvar_('DC_2',_'Shop_10') = 0\n",
      "outboundvar_('DC_2',_'Shop_11') = 623\n",
      "outboundvar_('DC_2',_'Shop_12') = 0\n",
      "outboundvar_('DC_2',_'Shop_3') = 0\n",
      "outboundvar_('DC_2',_'Shop_4') = 767\n",
      "outboundvar_('DC_2',_'Shop_5') = 575\n",
      "outboundvar_('DC_2',_'Shop_6') = 741\n",
      "outboundvar_('DC_2',_'Shop_7') = 593\n",
      "outboundvar_('DC_2',_'Shop_8') = 708\n",
      "outboundvar_('DC_2',_'Shop_9') = 800\n",
      "outboundvar_('DC_2',_'shop_2') = 0\n",
      "outboundvar_('DC_3',_'Shop_1') = 881\n",
      "outboundvar_('DC_3',_'Shop_10') = 0\n",
      "outboundvar_('DC_3',_'Shop_11') = 0\n",
      "outboundvar_('DC_3',_'Shop_12') = 0\n",
      "outboundvar_('DC_3',_'Shop_3') = 704\n",
      "outboundvar_('DC_3',_'Shop_4') = 0\n",
      "outboundvar_('DC_3',_'Shop_5') = 0\n",
      "outboundvar_('DC_3',_'Shop_6') = 0\n",
      "outboundvar_('DC_3',_'Shop_7') = 0\n",
      "outboundvar_('DC_3',_'Shop_8') = 0\n",
      "outboundvar_('DC_3',_'Shop_9') = 0\n",
      "outboundvar_('DC_3',_'shop_2') = 0\n",
      "outboundvar_('DC_4',_'Shop_1') = 0\n",
      "outboundvar_('DC_4',_'Shop_10') = 0\n",
      "outboundvar_('DC_4',_'Shop_11') = 0\n",
      "outboundvar_('DC_4',_'Shop_12') = 0\n",
      "outboundvar_('DC_4',_'Shop_3') = 0\n",
      "outboundvar_('DC_4',_'Shop_4') = 0\n",
      "outboundvar_('DC_4',_'Shop_5') = 0\n",
      "outboundvar_('DC_4',_'Shop_6') = 0\n",
      "outboundvar_('DC_4',_'Shop_7') = 0\n",
      "outboundvar_('DC_4',_'Shop_8') = 0\n",
      "outboundvar_('DC_4',_'Shop_9') = 0\n",
      "outboundvar_('DC_4',_'shop_2') = 0\n",
      "outboundvar_('DC_5',_'Shop_1') = 0\n",
      "outboundvar_('DC_5',_'Shop_10') = 0\n",
      "outboundvar_('DC_5',_'Shop_11') = 0\n",
      "outboundvar_('DC_5',_'Shop_12') = 0\n",
      "outboundvar_('DC_5',_'Shop_3') = 0\n",
      "outboundvar_('DC_5',_'Shop_4') = 0\n",
      "outboundvar_('DC_5',_'Shop_5') = 0\n",
      "outboundvar_('DC_5',_'Shop_6') = 0\n",
      "outboundvar_('DC_5',_'Shop_7') = 0\n",
      "outboundvar_('DC_5',_'Shop_8') = 0\n",
      "outboundvar_('DC_5',_'Shop_9') = 0\n",
      "outboundvar_('DC_5',_'shop_2') = 0\n",
      "outboundvar_('DC_6',_'Shop_1') = 0\n",
      "outboundvar_('DC_6',_'Shop_10') = 0\n",
      "outboundvar_('DC_6',_'Shop_11') = 0\n",
      "outboundvar_('DC_6',_'Shop_12') = 0\n",
      "outboundvar_('DC_6',_'Shop_3') = 0\n",
      "outboundvar_('DC_6',_'Shop_4') = 0\n",
      "outboundvar_('DC_6',_'Shop_5') = 0\n",
      "outboundvar_('DC_6',_'Shop_6') = 0\n",
      "outboundvar_('DC_6',_'Shop_7') = 0\n",
      "outboundvar_('DC_6',_'Shop_8') = 0\n",
      "outboundvar_('DC_6',_'Shop_9') = 0\n",
      "outboundvar_('DC_6',_'shop_2') = 0\n",
      "outboundvar_('DC_7',_'Shop_1') = 0\n",
      "outboundvar_('DC_7',_'Shop_10') = 0\n",
      "outboundvar_('DC_7',_'Shop_11') = 0\n",
      "outboundvar_('DC_7',_'Shop_12') = 0\n",
      "outboundvar_('DC_7',_'Shop_3') = 0\n",
      "outboundvar_('DC_7',_'Shop_4') = 0\n",
      "outboundvar_('DC_7',_'Shop_5') = 0\n",
      "outboundvar_('DC_7',_'Shop_6') = 0\n",
      "outboundvar_('DC_7',_'Shop_7') = 0\n",
      "outboundvar_('DC_7',_'Shop_8') = 0\n",
      "outboundvar_('DC_7',_'Shop_9') = 0\n",
      "outboundvar_('DC_7',_'shop_2') = 0\n",
      "outboundvar_('DC_8',_'Shop_1') = 0\n",
      "outboundvar_('DC_8',_'Shop_10') = 0\n",
      "outboundvar_('DC_8',_'Shop_11') = 0\n",
      "outboundvar_('DC_8',_'Shop_12') = 0\n",
      "outboundvar_('DC_8',_'Shop_3') = 0\n",
      "outboundvar_('DC_8',_'Shop_4') = 0\n",
      "outboundvar_('DC_8',_'Shop_5') = 0\n",
      "outboundvar_('DC_8',_'Shop_6') = 0\n",
      "outboundvar_('DC_8',_'Shop_7') = 0\n",
      "outboundvar_('DC_8',_'Shop_8') = 0\n",
      "outboundvar_('DC_8',_'Shop_9') = 0\n",
      "outboundvar_('DC_8',_'shop_2') = 0\n",
      "outboundvar_('DC_9',_'Shop_1') = 0\n",
      "outboundvar_('DC_9',_'Shop_10') = 0\n",
      "outboundvar_('DC_9',_'Shop_11') = 0\n",
      "outboundvar_('DC_9',_'Shop_12') = 0\n",
      "outboundvar_('DC_9',_'Shop_3') = 0\n",
      "outboundvar_('DC_9',_'Shop_4') = 0\n",
      "outboundvar_('DC_9',_'Shop_5') = 0\n",
      "outboundvar_('DC_9',_'Shop_6') = 0\n",
      "outboundvar_('DC_9',_'Shop_7') = 0\n",
      "outboundvar_('DC_9',_'Shop_8') = 0\n",
      "outboundvar_('DC_9',_'Shop_9') = 0\n",
      "outboundvar_('DC_9',_'shop_2') = 0\n"
     ]
    }
   ],
   "source": [
    "# note how the variables are stored in the model and called by .name and .varValue for print\n",
    "for v in model.variables() :\n",
    "    print (v.name, \"=\" ,v.varValue)"
   ],
   "metadata": {
    "collapsed": false,
    "pycharm": {
     "name": "#%%\n"
    }
   }
  },
  {
   "cell_type": "code",
   "execution_count": 77,
   "outputs": [
    {
     "data": {
      "text/plain": "147"
     },
     "execution_count": 77,
     "metadata": {},
     "output_type": "execute_result"
    }
   ],
   "source": [
    "len(model.variables())"
   ],
   "metadata": {
    "collapsed": false,
    "pycharm": {
     "name": "#%%\n"
    }
   }
  },
  {
   "cell_type": "code",
   "execution_count": 78,
   "outputs": [
    {
     "data": {
      "text/plain": "1256177"
     },
     "execution_count": 78,
     "metadata": {},
     "output_type": "execute_result"
    }
   ],
   "source": [
    "value(model.objective)"
   ],
   "metadata": {
    "collapsed": false,
    "pycharm": {
     "name": "#%%\n"
    }
   }
  },
  {
   "cell_type": "code",
   "execution_count": 79,
   "outputs": [
    {
     "data": {
      "text/plain": "8529"
     },
     "execution_count": 79,
     "metadata": {},
     "output_type": "execute_result"
    }
   ],
   "source": [
    "# calculate total demand travelled wrt distance\n",
    "disttravel = lpSum(dist_matrix[(w,s)]*outboundvar[(w,s)].varValue for w in dcsvar for s in shopsvar)\n",
    "disttravel"
   ],
   "metadata": {
    "collapsed": false,
    "pycharm": {
     "name": "#%%\n"
    }
   }
  },
  {
   "cell_type": "code",
   "execution_count": 80,
   "outputs": [
    {
     "data": {
      "text/plain": "8529"
     },
     "execution_count": 80,
     "metadata": {},
     "output_type": "execute_result"
    }
   ],
   "source": [
    "totdemand = demand['Demand'].sum()\n",
    "totdemand"
   ],
   "metadata": {
    "collapsed": false,
    "pycharm": {
     "name": "#%%\n"
    }
   }
  },
  {
   "cell_type": "code",
   "execution_count": 81,
   "outputs": [
    {
     "data": {
      "text/plain": "1.0"
     },
     "execution_count": 81,
     "metadata": {},
     "output_type": "execute_result"
    }
   ],
   "source": [
    "# calcuate service level\n",
    "servicelevel = disttravel/totdemand\n",
    "servicelevel"
   ],
   "metadata": {
    "collapsed": false,
    "pycharm": {
     "name": "#%%\n"
    }
   }
  }
 ],
 "metadata": {
  "kernelspec": {
   "display_name": "Python 3",
   "language": "python",
   "name": "python3"
  },
  "language_info": {
   "codemirror_mode": {
    "name": "ipython",
    "version": 2
   },
   "file_extension": ".py",
   "mimetype": "text/x-python",
   "name": "python",
   "nbconvert_exporter": "python",
   "pygments_lexer": "ipython2",
   "version": "2.7.6"
  }
 },
 "nbformat": 4,
 "nbformat_minor": 0
}