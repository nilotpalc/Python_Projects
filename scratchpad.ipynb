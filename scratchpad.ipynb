{
 "cells": [
  {
   "cell_type": "code",
   "execution_count": 1,
   "metadata": {},
   "outputs": [],
   "source": [
    "\"\"\"\n",
    "# connect to an azure sql database using username and password\n",
    "# and query the database for the top 10 rows of the table\n",
    "\"\"\"\n",
    "import pyodbc\n",
    "import pandas as pd\n",
    "import os\n",
    "\n",
    "# set up the connection string\n",
    "server = 'nilotpalc.database.windows.net'\n",
    "database = 'mydatasets'\n",
    "username = 'nilotpalc'\n",
    "password = '<>pwd</>'\n",
    "driver= '{ODBC Driver 18 for SQL Server}'\n",
    "connection_string = f\"DRIVER={driver};SERVER={server};DATABASE={database};UID={username};PWD={password}\""
   ]
  },
  {
   "cell_type": "code",
   "execution_count": 2,
   "metadata": {},
   "outputs": [],
   "source": [
    "# wrap the above code in a try-catch block to retry the connection in case it is timed out for a maximum of 3 times\n",
    "max_retries = 3\n",
    "retry_count = 0\n",
    "while retry_count < max_retries:\n",
    "    try:\n",
    "        conn = pyodbc.connect(connection_string)\n",
    "        break\n",
    "    except pyodbc.OperationalError:\n",
    "        retry_count += 1\n",
    "        if retry_count == max_retries:\n",
    "            raise"
   ]
  },
  {
   "cell_type": "code",
   "execution_count": 3,
   "metadata": {},
   "outputs": [],
   "source": [
    "cursor = conn.cursor()"
   ]
  },
  {
   "cell_type": "code",
   "execution_count": null,
   "metadata": {},
   "outputs": [],
   "source": [
    "conn.close()"
   ]
  },
  {
   "cell_type": "code",
   "execution_count": 4,
   "metadata": {},
   "outputs": [
    {
     "name": "stdout",
     "output_type": "stream",
     "text": [
      "Customer\n",
      "ProductModel\n",
      "mpqaSTposneg\n",
      "ProductDescription\n",
      "Product\n",
      "ProductModelProductDescription\n",
      "ProductCategory\n",
      "BuildVersion\n",
      "ErrorLog\n",
      "Address\n",
      "CustomerAddress\n",
      "SalesOrderDetail\n",
      "SalesOrderHeader\n"
     ]
    }
   ],
   "source": [
    "# execute the query to get the list of tables\n",
    "cursor = conn.cursor()\n",
    "query = \"SELECT TABLE_NAME FROM INFORMATION_SCHEMA.TABLES WHERE TABLE_TYPE = 'BASE TABLE' AND TABLE_CATALOG='mydatasets'\"\n",
    "cursor.execute(query)\n",
    "\n",
    "# print the list of tables\n",
    "for row in cursor:\n",
    "    print(row[0])"
   ]
  },
  {
   "cell_type": "code",
   "execution_count": 5,
   "metadata": {},
   "outputs": [
    {
     "name": "stderr",
     "output_type": "stream",
     "text": [
      "/tmp/ipykernel_2188/668058721.py:3: UserWarning: pandas only supports SQLAlchemy connectable (engine/connection) or database string URI or sqlite3 DBAPI2 connection. Other DBAPI2 objects are not tested. Please consider using SQLAlchemy.\n",
      "  df = pd.read_sql(query, conn)\n"
     ]
    }
   ],
   "source": [
    "# create a dataframe from the 'Customer' table in sql database\n",
    "query = \"SELECT * FROM [SalesLT].[Customer]\"\n",
    "df = pd.read_sql(query, conn)"
   ]
  },
  {
   "cell_type": "code",
   "execution_count": 6,
   "metadata": {},
   "outputs": [],
   "source": [
    "conn.close()"
   ]
  },
  {
   "cell_type": "code",
   "execution_count": 7,
   "metadata": {},
   "outputs": [],
   "source": [
    "atlantis = pd.read_csv('/workspaces/codespace-jupyter/data/atlantis.csv')"
   ]
  },
  {
   "cell_type": "code",
   "execution_count": 8,
   "metadata": {},
   "outputs": [
    {
     "name": "stdout",
     "output_type": "stream",
     "text": [
      "Downloading playground-series-s3e20.zip to /workspaces/codespace-jupyter/notebooks\n",
      "100%|██████████████████████████████████████| 48.9M/48.9M [00:04<00:00, 17.2MB/s]\n",
      "100%|██████████████████████████████████████| 48.9M/48.9M [00:04<00:00, 10.9MB/s]\n"
     ]
    }
   ],
   "source": [
    "import os\n",
    "\n",
    "# Install the Kaggle API client\n",
    "# %pip install kaggle\n",
    "\n",
    "# Set up the Kaggle API credentials\n",
    "os.environ['KAGGLE_USERNAME'] = 'nilotpalchoudhury'\n",
    "os.environ['KAGGLE_KEY'] = '<>api_key</>'\n",
    "\n",
    "# Download the competition files\n",
    "!kaggle competitions download -c playground-series-s3e20"
   ]
  },
  {
   "cell_type": "code",
   "execution_count": null,
   "metadata": {},
   "outputs": [],
   "source": [
    "\"\"\"\n",
    "unzip the files\n",
    "load each file data into a dataframe\n",
    "\"\"\"\n",
    "import zipfile\n",
    "import pandas as pd\n",
    "import os\n",
    "\n",
    "# unzip the files\n",
    "with zipfile.ZipFile('playground-series-s3e20.zip', 'r') as zip_ref:\n",
    "    zip_ref.extractall()\n",
    "\n",
    "# load each file data into a dataframe\n",
    "dfs = []\n",
    "for file in os.listdir():\n",
    "    if file.endswith('.csv'):\n",
    "        df = pd.read_csv(file)\n",
    "        df['filename'] = file\n",
    "        dfs.append(df)\n",
    "\n",
    "df = pd.concat(dfs)"
   ]
  },
  {
   "cell_type": "code",
   "execution_count": 9,
   "metadata": {},
   "outputs": [],
   "source": [
    "import sqlite3\n",
    "import numpy as np\n",
    "import pandas as pd\n",
    "import matplotlib.pyplot as plt\n",
    "import seaborn as sns"
   ]
  },
  {
   "cell_type": "code",
   "execution_count": 14,
   "metadata": {},
   "outputs": [],
   "source": [
    "# connect to sqlite db 'datasets.db'\n",
    "conn = sqlite3.connect('/workspaces/codespace-jupyter/data/datasets.db')"
   ]
  },
  {
   "cell_type": "code",
   "execution_count": 15,
   "metadata": {},
   "outputs": [
    {
     "data": {
      "text/html": [
       "<div>\n",
       "<style scoped>\n",
       "    .dataframe tbody tr th:only-of-type {\n",
       "        vertical-align: middle;\n",
       "    }\n",
       "\n",
       "    .dataframe tbody tr th {\n",
       "        vertical-align: top;\n",
       "    }\n",
       "\n",
       "    .dataframe thead th {\n",
       "        text-align: right;\n",
       "    }\n",
       "</style>\n",
       "<table border=\"1\" class=\"dataframe\">\n",
       "  <thead>\n",
       "    <tr style=\"text-align: right;\">\n",
       "      <th></th>\n",
       "      <th>name</th>\n",
       "    </tr>\n",
       "  </thead>\n",
       "  <tbody>\n",
       "    <tr>\n",
       "      <th>0</th>\n",
       "      <td>atlantis</td>\n",
       "    </tr>\n",
       "    <tr>\n",
       "      <th>1</th>\n",
       "      <td>atlantis2</td>\n",
       "    </tr>\n",
       "    <tr>\n",
       "      <th>2</th>\n",
       "      <td>tweets</td>\n",
       "    </tr>\n",
       "    <tr>\n",
       "      <th>3</th>\n",
       "      <td>mpqaSTposneg</td>\n",
       "    </tr>\n",
       "  </tbody>\n",
       "</table>\n",
       "</div>"
      ],
      "text/plain": [
       "           name\n",
       "0      atlantis\n",
       "1     atlantis2\n",
       "2        tweets\n",
       "3  mpqaSTposneg"
      ]
     },
     "execution_count": 15,
     "metadata": {},
     "output_type": "execute_result"
    }
   ],
   "source": [
    "# show the list of tables in the database\n",
    "query = \"SELECT name FROM sqlite_master WHERE type='table'\"\n",
    "tbls = pd.read_sql(query, conn)\n",
    "tbls"
   ]
  },
  {
   "cell_type": "code",
   "execution_count": 16,
   "metadata": {},
   "outputs": [],
   "source": [
    "\n",
    "\"\"\"\n",
    "# extract all the csv files from the zip archive and save them as individual dataframe\n",
    "# save all the dataframes in a dictionary with the name of the csv file as the key\n",
    "\"\"\"\n",
    "from zipfile import ZipFile\n",
    "zf = ZipFile('playground-series-s3e20.zip')\n",
    "dfs = {}\n",
    "for text_file in zf.infolist():\n",
    "    if text_file.filename.endswith('.csv'):\n",
    "        dfs[text_file.filename] = pd.read_csv(zf.open(text_file.filename, 'r'),encoding_errors='ignore')"
   ]
  },
  {
   "cell_type": "code",
   "execution_count": 17,
   "metadata": {},
   "outputs": [
    {
     "data": {
      "text/plain": [
       "dict_keys(['sample_submission.csv', 'test.csv', 'train.csv'])"
      ]
     },
     "execution_count": 17,
     "metadata": {},
     "output_type": "execute_result"
    }
   ],
   "source": [
    "dfs.keys()"
   ]
  },
  {
   "cell_type": "code",
   "execution_count": 18,
   "metadata": {},
   "outputs": [],
   "source": [
    "conn.close()"
   ]
  }
 ],
 "metadata": {
  "kernelspec": {
   "display_name": "base",
   "language": "python",
   "name": "python3"
  },
  "language_info": {
   "codemirror_mode": {
    "name": "ipython",
    "version": 3
   },
   "file_extension": ".py",
   "mimetype": "text/x-python",
   "name": "python",
   "nbconvert_exporter": "python",
   "pygments_lexer": "ipython3",
   "version": "3.11.4"
  },
  "orig_nbformat": 4
 },
 "nbformat": 4,
 "nbformat_minor": 2
}
