{
 "cells": [
  {
   "cell_type": "code",
   "execution_count": 29,
   "metadata": {
    "pycharm": {
     "name": "#%%\n"
    }
   },
   "outputs": [],
   "source": [
    "import pandas as pd\n",
    "from pulp import *"
   ]
  },
  {
   "cell_type": "code",
   "execution_count": 30,
   "metadata": {
    "pycharm": {
     "name": "#%%\n"
    }
   },
   "outputs": [
    {
     "data": {
      "text/plain": "  Warehouse  city 1  city 2  city 3  city 4  city 5  city 6  city 7\n0    city 1       0    2304    2528     950     906     947    1475\n1    city 2    2304       0    2829    1776    2310    1475    2192\n2    city 3    2528    2829       0    3123    1965    2134    1187\n3    city 4     950    1776    3123       0    1699    1149    1926\n4    city 5     906    2310    1965    1699       0     842     915\n5    city 6     947    1475    2134    1149     842       0     922\n6    city 7    1475    2192    1187    1926     915     922       0",
      "text/html": "<div>\n<style scoped>\n    .dataframe tbody tr th:only-of-type {\n        vertical-align: middle;\n    }\n\n    .dataframe tbody tr th {\n        vertical-align: top;\n    }\n\n    .dataframe thead th {\n        text-align: right;\n    }\n</style>\n<table border=\"1\" class=\"dataframe\">\n  <thead>\n    <tr style=\"text-align: right;\">\n      <th></th>\n      <th>Warehouse</th>\n      <th>city 1</th>\n      <th>city 2</th>\n      <th>city 3</th>\n      <th>city 4</th>\n      <th>city 5</th>\n      <th>city 6</th>\n      <th>city 7</th>\n    </tr>\n  </thead>\n  <tbody>\n    <tr>\n      <th>0</th>\n      <td>city 1</td>\n      <td>0</td>\n      <td>2304</td>\n      <td>2528</td>\n      <td>950</td>\n      <td>906</td>\n      <td>947</td>\n      <td>1475</td>\n    </tr>\n    <tr>\n      <th>1</th>\n      <td>city 2</td>\n      <td>2304</td>\n      <td>0</td>\n      <td>2829</td>\n      <td>1776</td>\n      <td>2310</td>\n      <td>1475</td>\n      <td>2192</td>\n    </tr>\n    <tr>\n      <th>2</th>\n      <td>city 3</td>\n      <td>2528</td>\n      <td>2829</td>\n      <td>0</td>\n      <td>3123</td>\n      <td>1965</td>\n      <td>2134</td>\n      <td>1187</td>\n    </tr>\n    <tr>\n      <th>3</th>\n      <td>city 4</td>\n      <td>950</td>\n      <td>1776</td>\n      <td>3123</td>\n      <td>0</td>\n      <td>1699</td>\n      <td>1149</td>\n      <td>1926</td>\n    </tr>\n    <tr>\n      <th>4</th>\n      <td>city 5</td>\n      <td>906</td>\n      <td>2310</td>\n      <td>1965</td>\n      <td>1699</td>\n      <td>0</td>\n      <td>842</td>\n      <td>915</td>\n    </tr>\n    <tr>\n      <th>5</th>\n      <td>city 6</td>\n      <td>947</td>\n      <td>1475</td>\n      <td>2134</td>\n      <td>1149</td>\n      <td>842</td>\n      <td>0</td>\n      <td>922</td>\n    </tr>\n    <tr>\n      <th>6</th>\n      <td>city 7</td>\n      <td>1475</td>\n      <td>2192</td>\n      <td>1187</td>\n      <td>1926</td>\n      <td>915</td>\n      <td>922</td>\n      <td>0</td>\n    </tr>\n  </tbody>\n</table>\n</div>"
     },
     "execution_count": 30,
     "metadata": {},
     "output_type": "execute_result"
    }
   ],
   "source": [
    "distmatrix = pd.read_excel('warehouse_city.xlsx')\n",
    "distmatrix"
   ]
  },
  {
   "cell_type": "code",
   "execution_count": 31,
   "metadata": {
    "pycharm": {
     "name": "#%%\n"
    }
   },
   "outputs": [
    {
     "data": {
      "text/plain": "           city 1  city 2  city 3  city 4  city 5  city 6  city 7\nWarehouse                                                        \ncity 1          0    2304    2528     950     906     947    1475\ncity 2       2304       0    2829    1776    2310    1475    2192\ncity 3       2528    2829       0    3123    1965    2134    1187\ncity 4        950    1776    3123       0    1699    1149    1926\ncity 5        906    2310    1965    1699       0     842     915\ncity 6        947    1475    2134    1149     842       0     922\ncity 7       1475    2192    1187    1926     915     922       0",
      "text/html": "<div>\n<style scoped>\n    .dataframe tbody tr th:only-of-type {\n        vertical-align: middle;\n    }\n\n    .dataframe tbody tr th {\n        vertical-align: top;\n    }\n\n    .dataframe thead th {\n        text-align: right;\n    }\n</style>\n<table border=\"1\" class=\"dataframe\">\n  <thead>\n    <tr style=\"text-align: right;\">\n      <th></th>\n      <th>city 1</th>\n      <th>city 2</th>\n      <th>city 3</th>\n      <th>city 4</th>\n      <th>city 5</th>\n      <th>city 6</th>\n      <th>city 7</th>\n    </tr>\n    <tr>\n      <th>Warehouse</th>\n      <th></th>\n      <th></th>\n      <th></th>\n      <th></th>\n      <th></th>\n      <th></th>\n      <th></th>\n    </tr>\n  </thead>\n  <tbody>\n    <tr>\n      <th>city 1</th>\n      <td>0</td>\n      <td>2304</td>\n      <td>2528</td>\n      <td>950</td>\n      <td>906</td>\n      <td>947</td>\n      <td>1475</td>\n    </tr>\n    <tr>\n      <th>city 2</th>\n      <td>2304</td>\n      <td>0</td>\n      <td>2829</td>\n      <td>1776</td>\n      <td>2310</td>\n      <td>1475</td>\n      <td>2192</td>\n    </tr>\n    <tr>\n      <th>city 3</th>\n      <td>2528</td>\n      <td>2829</td>\n      <td>0</td>\n      <td>3123</td>\n      <td>1965</td>\n      <td>2134</td>\n      <td>1187</td>\n    </tr>\n    <tr>\n      <th>city 4</th>\n      <td>950</td>\n      <td>1776</td>\n      <td>3123</td>\n      <td>0</td>\n      <td>1699</td>\n      <td>1149</td>\n      <td>1926</td>\n    </tr>\n    <tr>\n      <th>city 5</th>\n      <td>906</td>\n      <td>2310</td>\n      <td>1965</td>\n      <td>1699</td>\n      <td>0</td>\n      <td>842</td>\n      <td>915</td>\n    </tr>\n    <tr>\n      <th>city 6</th>\n      <td>947</td>\n      <td>1475</td>\n      <td>2134</td>\n      <td>1149</td>\n      <td>842</td>\n      <td>0</td>\n      <td>922</td>\n    </tr>\n    <tr>\n      <th>city 7</th>\n      <td>1475</td>\n      <td>2192</td>\n      <td>1187</td>\n      <td>1926</td>\n      <td>915</td>\n      <td>922</td>\n      <td>0</td>\n    </tr>\n  </tbody>\n</table>\n</div>"
     },
     "execution_count": 31,
     "metadata": {},
     "output_type": "execute_result"
    }
   ],
   "source": [
    "distmatrix.set_index('Warehouse', inplace=True)\n",
    "distmatrix"
   ]
  },
  {
   "cell_type": "code",
   "execution_count": 32,
   "metadata": {
    "pycharm": {
     "name": "#%%\n"
    }
   },
   "outputs": [
    {
     "data": {
      "text/plain": "[('city 1', 'city 1'),\n ('city 1', 'city 2'),\n ('city 1', 'city 3'),\n ('city 1', 'city 4'),\n ('city 1', 'city 5'),\n ('city 1', 'city 6'),\n ('city 1', 'city 7'),\n ('city 2', 'city 1'),\n ('city 2', 'city 2'),\n ('city 2', 'city 3'),\n ('city 2', 'city 4'),\n ('city 2', 'city 5'),\n ('city 2', 'city 6'),\n ('city 2', 'city 7'),\n ('city 3', 'city 1'),\n ('city 3', 'city 2'),\n ('city 3', 'city 3'),\n ('city 3', 'city 4'),\n ('city 3', 'city 5'),\n ('city 3', 'city 6'),\n ('city 3', 'city 7'),\n ('city 4', 'city 1'),\n ('city 4', 'city 2'),\n ('city 4', 'city 3'),\n ('city 4', 'city 4'),\n ('city 4', 'city 5'),\n ('city 4', 'city 6'),\n ('city 4', 'city 7'),\n ('city 5', 'city 1'),\n ('city 5', 'city 2'),\n ('city 5', 'city 3'),\n ('city 5', 'city 4'),\n ('city 5', 'city 5'),\n ('city 5', 'city 6'),\n ('city 5', 'city 7'),\n ('city 6', 'city 1'),\n ('city 6', 'city 2'),\n ('city 6', 'city 3'),\n ('city 6', 'city 4'),\n ('city 6', 'city 5'),\n ('city 6', 'city 6'),\n ('city 6', 'city 7'),\n ('city 7', 'city 1'),\n ('city 7', 'city 2'),\n ('city 7', 'city 3'),\n ('city 7', 'city 4'),\n ('city 7', 'city 5'),\n ('city 7', 'city 6'),\n ('city 7', 'city 7')]"
     },
     "execution_count": 32,
     "metadata": {},
     "output_type": "execute_result"
    }
   ],
   "source": [
    "keys = [(w, c) for w in distmatrix.index for c in distmatrix.columns]  # list comprehension\n",
    "keys"
   ]
  },
  {
   "cell_type": "code",
   "execution_count": 33,
   "metadata": {
    "pycharm": {
     "name": "#%%\n"
    }
   },
   "outputs": [
    {
     "data": {
      "text/plain": "{('city 1', 'city 1'): 0,\n ('city 1', 'city 2'): 2304,\n ('city 1', 'city 3'): 2528,\n ('city 1', 'city 4'): 950,\n ('city 1', 'city 5'): 906,\n ('city 1', 'city 6'): 947,\n ('city 1', 'city 7'): 1475,\n ('city 2', 'city 1'): 2304,\n ('city 2', 'city 2'): 0,\n ('city 2', 'city 3'): 2829,\n ('city 2', 'city 4'): 1776,\n ('city 2', 'city 5'): 2310,\n ('city 2', 'city 6'): 1475,\n ('city 2', 'city 7'): 2192,\n ('city 3', 'city 1'): 2528,\n ('city 3', 'city 2'): 2829,\n ('city 3', 'city 3'): 0,\n ('city 3', 'city 4'): 3123,\n ('city 3', 'city 5'): 1965,\n ('city 3', 'city 6'): 2134,\n ('city 3', 'city 7'): 1187,\n ('city 4', 'city 1'): 950,\n ('city 4', 'city 2'): 1776,\n ('city 4', 'city 3'): 3123,\n ('city 4', 'city 4'): 0,\n ('city 4', 'city 5'): 1699,\n ('city 4', 'city 6'): 1149,\n ('city 4', 'city 7'): 1926,\n ('city 5', 'city 1'): 906,\n ('city 5', 'city 2'): 2310,\n ('city 5', 'city 3'): 1965,\n ('city 5', 'city 4'): 1699,\n ('city 5', 'city 5'): 0,\n ('city 5', 'city 6'): 842,\n ('city 5', 'city 7'): 915,\n ('city 6', 'city 1'): 947,\n ('city 6', 'city 2'): 1475,\n ('city 6', 'city 3'): 2134,\n ('city 6', 'city 4'): 1149,\n ('city 6', 'city 5'): 842,\n ('city 6', 'city 6'): 0,\n ('city 6', 'city 7'): 922,\n ('city 7', 'city 1'): 1475,\n ('city 7', 'city 2'): 2192,\n ('city 7', 'city 3'): 1187,\n ('city 7', 'city 4'): 1926,\n ('city 7', 'city 5'): 915,\n ('city 7', 'city 6'): 922,\n ('city 7', 'city 7'): 0}"
     },
     "execution_count": 33,
     "metadata": {},
     "output_type": "execute_result"
    }
   ],
   "source": [
    "dist_dict = {(w, c): distmatrix.loc[w, c] for w in distmatrix.index for c in\n",
    "             distmatrix.columns}  # dictionary comprehension\n",
    "dist_dict"
   ]
  },
  {
   "cell_type": "code",
   "execution_count": 34,
   "metadata": {
    "pycharm": {
     "name": "#%%\n"
    }
   },
   "outputs": [
    {
     "data": {
      "text/plain": "{'city 1': 10000,\n 'city 2': 20000,\n 'city 3': 33000,\n 'city 4': 9000,\n 'city 5': 60000,\n 'city 6': 2500,\n 'city 7': 35000}"
     },
     "execution_count": 34,
     "metadata": {},
     "output_type": "execute_result"
    }
   ],
   "source": [
    "demand_dict = dict(zip(distmatrix.columns, [10000, 20000, 33000, 9000, 60000, 2500, 35000]))\n",
    "demand_dict"
   ]
  },
  {
   "cell_type": "code",
   "execution_count": 35,
   "metadata": {
    "pycharm": {
     "name": "#%%\n"
    }
   },
   "outputs": [],
   "source": [
    "warehouse = distmatrix.index\n",
    "customers = distmatrix.columns"
   ]
  },
  {
   "cell_type": "code",
   "execution_count": 36,
   "metadata": {
    "pycharm": {
     "name": "#%%\n"
    }
   },
   "outputs": [],
   "source": [
    "flows = LpVariable.dicts('flows', keys, cat='Binary')\n",
    "open_w = LpVariable.dicts('open_w', distmatrix.index, cat='Binary')"
   ]
  },
  {
   "cell_type": "code",
   "execution_count": 37,
   "metadata": {
    "pycharm": {
     "name": "#%%\n"
    }
   },
   "outputs": [],
   "source": [
    "# creating a model for running optimization\n",
    "model = LpProblem('transportprob', sense=LpMinimize)\n",
    "\n",
    "# defining the objective function\n",
    "model += lpSum([demand_dict.get(c) * flows[(w, c)] * dist_dict.get((w, c)) for w in open_w for c in distmatrix.columns])"
   ]
  },
  {
   "cell_type": "code",
   "execution_count": 38,
   "metadata": {
    "pycharm": {
     "name": "#%%\n"
    }
   },
   "outputs": [],
   "source": [
    "# defining constraints\n",
    "for c in customers:\n",
    "    model += lpSum([flows.get((w, c)) for w in warehouse]) == 1\n",
    "\n",
    "model += lpSum([open_w[w] for w in warehouse]) == 3\n",
    "\n",
    "for w in warehouse:\n",
    "    for c in customers:\n",
    "        model += open_w[w] >= flows.get((w,c))"
   ]
  },
  {
   "cell_type": "code",
   "execution_count": 39,
   "metadata": {
    "pycharm": {
     "name": "#%%\n"
    }
   },
   "outputs": [
    {
     "data": {
      "text/plain": "1"
     },
     "execution_count": 39,
     "metadata": {},
     "output_type": "execute_result"
    }
   ],
   "source": [
    "model.solve()"
   ]
  },
  {
   "cell_type": "code",
   "execution_count": 40,
   "metadata": {
    "pycharm": {
     "name": "#%%\n"
    }
   },
   "outputs": [
    {
     "name": "stdout",
     "output_type": "stream",
     "text": [
      "open_w_city_1\n",
      "open_w_city_2\n",
      "open_w_city_3\n",
      "open_w_city_4\n",
      "open_w_city_5\n",
      "open_w_city_6\n",
      "open_w_city_7\n"
     ]
    }
   ],
   "source": [
    "for i in open_w:\n",
    "    print (open_w[i])"
   ]
  },
  {
   "cell_type": "code",
   "execution_count": 41,
   "metadata": {
    "pycharm": {
     "name": "#%%\n"
    }
   },
   "outputs": [
    {
     "name": "stdout",
     "output_type": "stream",
     "text": [
      "flows_('city_1',_'city_1')\n",
      "flows_('city_1',_'city_2')\n",
      "flows_('city_1',_'city_3')\n",
      "flows_('city_1',_'city_4')\n",
      "flows_('city_1',_'city_5')\n",
      "flows_('city_1',_'city_6')\n",
      "flows_('city_1',_'city_7')\n",
      "flows_('city_2',_'city_1')\n",
      "flows_('city_2',_'city_2')\n",
      "flows_('city_2',_'city_3')\n",
      "flows_('city_2',_'city_4')\n",
      "flows_('city_2',_'city_5')\n",
      "flows_('city_2',_'city_6')\n",
      "flows_('city_2',_'city_7')\n",
      "flows_('city_3',_'city_1')\n",
      "flows_('city_3',_'city_2')\n",
      "flows_('city_3',_'city_3')\n",
      "flows_('city_3',_'city_4')\n",
      "flows_('city_3',_'city_5')\n",
      "flows_('city_3',_'city_6')\n",
      "flows_('city_3',_'city_7')\n",
      "flows_('city_4',_'city_1')\n",
      "flows_('city_4',_'city_2')\n",
      "flows_('city_4',_'city_3')\n",
      "flows_('city_4',_'city_4')\n",
      "flows_('city_4',_'city_5')\n",
      "flows_('city_4',_'city_6')\n",
      "flows_('city_4',_'city_7')\n",
      "flows_('city_5',_'city_1')\n",
      "flows_('city_5',_'city_2')\n",
      "flows_('city_5',_'city_3')\n",
      "flows_('city_5',_'city_4')\n",
      "flows_('city_5',_'city_5')\n",
      "flows_('city_5',_'city_6')\n",
      "flows_('city_5',_'city_7')\n",
      "flows_('city_6',_'city_1')\n",
      "flows_('city_6',_'city_2')\n",
      "flows_('city_6',_'city_3')\n",
      "flows_('city_6',_'city_4')\n",
      "flows_('city_6',_'city_5')\n",
      "flows_('city_6',_'city_6')\n",
      "flows_('city_6',_'city_7')\n",
      "flows_('city_7',_'city_1')\n",
      "flows_('city_7',_'city_2')\n",
      "flows_('city_7',_'city_3')\n",
      "flows_('city_7',_'city_4')\n",
      "flows_('city_7',_'city_5')\n",
      "flows_('city_7',_'city_6')\n",
      "flows_('city_7',_'city_7')\n"
     ]
    }
   ],
   "source": [
    "for w,c in flows:\n",
    "    print (flows[(w,c)])"
   ]
  },
  {
   "cell_type": "code",
   "execution_count": 51,
   "outputs": [
    {
     "data": {
      "text/plain": "  warehouse name  warehouse open\n0  open_w_city_1               0\n1  open_w_city_2               1\n2  open_w_city_3               1\n3  open_w_city_4               0\n4  open_w_city_5               1\n5  open_w_city_6               0\n6  open_w_city_7               0",
      "text/html": "<div>\n<style scoped>\n    .dataframe tbody tr th:only-of-type {\n        vertical-align: middle;\n    }\n\n    .dataframe tbody tr th {\n        vertical-align: top;\n    }\n\n    .dataframe thead th {\n        text-align: right;\n    }\n</style>\n<table border=\"1\" class=\"dataframe\">\n  <thead>\n    <tr style=\"text-align: right;\">\n      <th></th>\n      <th>warehouse name</th>\n      <th>warehouse open</th>\n    </tr>\n  </thead>\n  <tbody>\n    <tr>\n      <th>0</th>\n      <td>open_w_city_1</td>\n      <td>0</td>\n    </tr>\n    <tr>\n      <th>1</th>\n      <td>open_w_city_2</td>\n      <td>1</td>\n    </tr>\n    <tr>\n      <th>2</th>\n      <td>open_w_city_3</td>\n      <td>1</td>\n    </tr>\n    <tr>\n      <th>3</th>\n      <td>open_w_city_4</td>\n      <td>0</td>\n    </tr>\n    <tr>\n      <th>4</th>\n      <td>open_w_city_5</td>\n      <td>1</td>\n    </tr>\n    <tr>\n      <th>5</th>\n      <td>open_w_city_6</td>\n      <td>0</td>\n    </tr>\n    <tr>\n      <th>6</th>\n      <td>open_w_city_7</td>\n      <td>0</td>\n    </tr>\n  </tbody>\n</table>\n</div>"
     },
     "execution_count": 51,
     "metadata": {},
     "output_type": "execute_result"
    }
   ],
   "source": [
    "# generating the list of keys building the variable dict\n",
    "warehouselist =[]\n",
    "for i in open_w:\n",
    "    warehouselist.append(open_w[i])\n",
    "# generating the list of associated values building the variable dict\n",
    "warehouseopenvalues = []\n",
    "for i in open_w:\n",
    "    warehouseopenvalues.append(open_w[i].varValue)\n",
    "\n",
    "#creating a dictionary for output\n",
    "new_data = pd.DataFrame({\"warehouse name\":warehouselist,\"warehouse open\":warehouseopenvalues})\n",
    "new_data"
   ],
   "metadata": {
    "collapsed": false,
    "pycharm": {
     "name": "#%%\n"
    }
   }
  },
  {
   "cell_type": "code",
   "execution_count": 43,
   "outputs": [
    {
     "data": {
      "text/plain": "58481000"
     },
     "execution_count": 43,
     "metadata": {},
     "output_type": "execute_result"
    }
   ],
   "source": [
    "value(model.objective)"
   ],
   "metadata": {
    "collapsed": false,
    "pycharm": {
     "name": "#%%\n"
    }
   }
  }
 ],
 "metadata": {
  "kernelspec": {
   "display_name": "Python 3 (ipykernel)",
   "language": "python",
   "name": "python3"
  },
  "language_info": {
   "codemirror_mode": {
    "name": "ipython",
    "version": 3
   },
   "file_extension": ".py",
   "mimetype": "text/x-python",
   "name": "python",
   "nbconvert_exporter": "python",
   "pygments_lexer": "ipython3",
   "version": "3.9.12"
  }
 },
 "nbformat": 4,
 "nbformat_minor": 4
}